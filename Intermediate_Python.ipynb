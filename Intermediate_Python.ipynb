{
  "nbformat": 4,
  "nbformat_minor": 0,
  "metadata": {
    "colab": {
      "name": "Intermediate_Python.ipynb",
      "provenance": [],
      "collapsed_sections": [],
      "authorship_tag": "ABX9TyPN1aRj5DNaVhmJPMYaHroW",
      "include_colab_link": true
    },
    "kernelspec": {
      "name": "python3",
      "display_name": "Python 3"
    }
  },
  "cells": [
    {
      "cell_type": "markdown",
      "metadata": {
        "id": "view-in-github",
        "colab_type": "text"
      },
      "source": [
        "<a href=\"https://colab.research.google.com/github/KazumaShachou/Python_learning/blob/main/Intermediate_Python.ipynb\" target=\"_parent\"><img src=\"https://colab.research.google.com/assets/colab-badge.svg\" alt=\"Open In Colab\"/></a>"
      ]
    },
    {
      "cell_type": "code",
      "metadata": {
        "colab": {
          "base_uri": "https://localhost:8080/"
        },
        "id": "aJH5BlyYDq2e",
        "outputId": "7ff60b17-9e2e-4bae-a996-febde6d9244d"
      },
      "source": [
        "dic = {'name':'kazuma', 'age':30, 'city': 'tokyo'}\r\n",
        "print(dic)  "
      ],
      "execution_count": null,
      "outputs": [
        {
          "output_type": "stream",
          "text": [
            "{'name': 'kazuma', 'age': 30, 'city': 'tokyo'}\n"
          ],
          "name": "stdout"
        }
      ]
    },
    {
      "cell_type": "code",
      "metadata": {
        "colab": {
          "base_uri": "https://localhost:8080/"
        },
        "id": "qtwy8blbaGTb",
        "outputId": "be978f9f-2b0d-48aa-d61f-4907463c0c23"
      },
      "source": [
        "dic2 = {'name':'pekora', 'age': 111, 'city': 'sapporo'}\r\n",
        "print(dic2)\r\n",
        "\r\n",
        "value = dic2['name']\r\n",
        "print(value)"
      ],
      "execution_count": null,
      "outputs": [
        {
          "output_type": "stream",
          "text": [
            "{'name': 'pekora', 'age': 111, 'city': 'sapporo'}\n",
            "pekora\n"
          ],
          "name": "stdout"
        }
      ]
    },
    {
      "cell_type": "code",
      "metadata": {
        "id": "R15z3xR0eRSO",
        "colab": {
          "base_uri": "https://localhost:8080/"
        },
        "outputId": "07507f49-6c13-4774-c04c-348891f6d968"
      },
      "source": [
        "  dic['email'] = 'kakakakak@gmail.com'\r\n",
        "  print(dic)"
      ],
      "execution_count": null,
      "outputs": [
        {
          "output_type": "stream",
          "text": [
            "{'name': 'kazuma', 'age': 30, 'city': 'tokyo', 'email': 'kakakakak@gmail.com'}\n"
          ],
          "name": "stdout"
        }
      ]
    },
    {
      "cell_type": "code",
      "metadata": {
        "colab": {
          "base_uri": "https://localhost:8080/"
        },
        "id": "Ox-lWSss4P8Z",
        "outputId": "5ce646d9-b16f-4d6e-dcc5-a4c747f538bb"
      },
      "source": [
        "del dic2['city']\r\n",
        "print(dic2)"
      ],
      "execution_count": null,
      "outputs": [
        {
          "output_type": "stream",
          "text": [
            "{'name': 'pekora', 'age': 111}\n"
          ],
          "name": "stdout"
        }
      ]
    },
    {
      "cell_type": "code",
      "metadata": {
        "colab": {
          "base_uri": "https://localhost:8080/"
        },
        "id": "s6qfzFHV4oM8",
        "outputId": "0d69728d-f6b5-4680-a3b8-0005438419b2"
      },
      "source": [
        "if 'name' in dic:\r\n",
        "  print(dic['name'])"
      ],
      "execution_count": null,
      "outputs": [
        {
          "output_type": "stream",
          "text": [
            "kazuma\n"
          ],
          "name": "stdout"
        }
      ]
    },
    {
      "cell_type": "code",
      "metadata": {
        "colab": {
          "base_uri": "https://localhost:8080/"
        },
        "id": "SbVu66Nt91Id",
        "outputId": "5c0d6cec-dff1-4a6f-9fa0-7924466380e8"
      },
      "source": [
        "try:\r\n",
        "  print(dic['name'])\r\n",
        "except:\r\n",
        "  print('error')"
      ],
      "execution_count": null,
      "outputs": [
        {
          "output_type": "stream",
          "text": [
            "kazuma\n"
          ],
          "name": "stdout"
        }
      ]
    },
    {
      "cell_type": "code",
      "metadata": {
        "colab": {
          "base_uri": "https://localhost:8080/"
        },
        "id": "ZdZlJy2K-jn5",
        "outputId": "d18e4cc9-a014-4f2a-c273-6edd10612109"
      },
      "source": [
        "try:\r\n",
        "  print(dic['lastname'])\r\n",
        "except:\r\n",
        "  print('error')"
      ],
      "execution_count": null,
      "outputs": [
        {
          "output_type": "stream",
          "text": [
            "error\n"
          ],
          "name": "stdout"
        }
      ]
    },
    {
      "cell_type": "code",
      "metadata": {
        "colab": {
          "base_uri": "https://localhost:8080/"
        },
        "id": "jnVmYm1b-0-B",
        "outputId": "bb25ebaa-7154-4eb5-b165-a6f0abb811dc"
      },
      "source": [
        "for key in dic.keys():\r\n",
        "  print(key)"
      ],
      "execution_count": null,
      "outputs": [
        {
          "output_type": "stream",
          "text": [
            "name\n",
            "age\n",
            "city\n",
            "email\n"
          ],
          "name": "stdout"
        }
      ]
    },
    {
      "cell_type": "code",
      "metadata": {
        "colab": {
          "base_uri": "https://localhost:8080/"
        },
        "id": "feRkFGiQGs5R",
        "outputId": "c6e3f8ad-5305-4c5e-e5c8-8a240abaa9bd"
      },
      "source": [
        "for value in dic.values():\r\n",
        "  print(value)"
      ],
      "execution_count": null,
      "outputs": [
        {
          "output_type": "stream",
          "text": [
            "kazuma\n",
            "30\n",
            "tokyo\n",
            "kakakakak@gmail.com\n"
          ],
          "name": "stdout"
        }
      ]
    },
    {
      "cell_type": "code",
      "metadata": {
        "colab": {
          "base_uri": "https://localhost:8080/"
        },
        "id": "sHzl5sOdG3z9",
        "outputId": "b8b6ef25-68b4-4a7c-ecaf-4d929b4b468d"
      },
      "source": [
        "for key, value in dic.items():\r\n",
        "  print(key, value)"
      ],
      "execution_count": null,
      "outputs": [
        {
          "output_type": "stream",
          "text": [
            "name kazuma\n",
            "age 30\n",
            "city tokyo\n",
            "email kakakakak@gmail.com\n"
          ],
          "name": "stdout"
        }
      ]
    },
    {
      "cell_type": "code",
      "metadata": {
        "id": "nQOCBiGBHryn",
        "colab": {
          "base_uri": "https://localhost:8080/"
        },
        "outputId": "b6382cc1-1b25-4b26-9fec-e9d968373d9b"
      },
      "source": [
        "#sets - unordered, mutable and no duplicates\r\n",
        "\r\n",
        "myset = {2, 3, 4}\r\n",
        "print(myset)"
      ],
      "execution_count": null,
      "outputs": [
        {
          "output_type": "stream",
          "text": [
            "{2, 3, 4}\n"
          ],
          "name": "stdout"
        }
      ]
    },
    {
      "cell_type": "code",
      "metadata": {
        "colab": {
          "base_uri": "https://localhost:8080/"
        },
        "id": "H4klzn6HTley",
        "outputId": "1088afbb-7d75-4f66-90bf-f785757de6bd"
      },
      "source": [
        "myset = {2, 3, 4, 2, 3}\r\n",
        "print(myset)"
      ],
      "execution_count": null,
      "outputs": [
        {
          "output_type": "stream",
          "text": [
            "{2, 3, 4}\n"
          ],
          "name": "stdout"
        }
      ]
    },
    {
      "cell_type": "code",
      "metadata": {
        "colab": {
          "base_uri": "https://localhost:8080/"
        },
        "id": "mVM-VKTpTtNN",
        "outputId": "fe935ac0-388b-45bd-e46c-d437387a1425"
      },
      "source": [
        "myset2 = set('Hello')\r\n",
        "print(myset2)"
      ],
      "execution_count": null,
      "outputs": [
        {
          "output_type": "stream",
          "text": [
            "{'H', 'o', 'e', 'l'}\n"
          ],
          "name": "stdout"
        }
      ]
    },
    {
      "cell_type": "code",
      "metadata": {
        "colab": {
          "base_uri": "https://localhost:8080/"
        },
        "id": "fGLy3mIPUoKm",
        "outputId": "b1bf5cdf-961a-4a1c-8858-7973aca85199"
      },
      "source": [
        "myset3 = set()\r\n",
        "\r\n",
        "myset3.add(1)\r\n",
        "myset3.add(2)\r\n",
        "myset3.add(3)\r\n",
        "\r\n",
        "myset3.remove(3)  #can use discard too fin the place of remove\r\n",
        "\r\n",
        "print(myset3)"
      ],
      "execution_count": null,
      "outputs": [
        {
          "output_type": "stream",
          "text": [
            "{1, 2}\n"
          ],
          "name": "stdout"
        }
      ]
    },
    {
      "cell_type": "code",
      "metadata": {
        "colab": {
          "base_uri": "https://localhost:8080/"
        },
        "id": "OImpKPDvVLh8",
        "outputId": "4dcf7dde-1956-4d9a-95e2-1e3a131db9a8"
      },
      "source": [
        "for i in myset3:\r\n",
        "  print(i)"
      ],
      "execution_count": null,
      "outputs": [
        {
          "output_type": "stream",
          "text": [
            "1\n",
            "2\n"
          ],
          "name": "stdout"
        }
      ]
    },
    {
      "cell_type": "code",
      "metadata": {
        "colab": {
          "base_uri": "https://localhost:8080/"
        },
        "id": "nPbAMMQTVr39",
        "outputId": "657f19ee-5892-4ed3-edb8-9989f202ce42"
      },
      "source": [
        "ex1 = {1, 3, 5, 7, 9}\r\n",
        "ex2 = {2, 4, 6, 8, 0}\r\n",
        "ex3 = {1, 3, 11, 6, 14, 12, 5}\r\n",
        "\r\n",
        "u = ex1.union(ex3)\r\n",
        "print(u)"
      ],
      "execution_count": null,
      "outputs": [
        {
          "output_type": "stream",
          "text": [
            "{1, 3, 5, 6, 7, 9, 11, 12, 14}\n"
          ],
          "name": "stdout"
        }
      ]
    },
    {
      "cell_type": "code",
      "metadata": {
        "colab": {
          "base_uri": "https://localhost:8080/"
        },
        "id": "rdA1fmmlYAbk",
        "outputId": "cee8dd77-210a-4f7c-a00f-2f095573263e"
      },
      "source": [
        "v = ex1.union(ex2)\r\n",
        "print(v)"
      ],
      "execution_count": null,
      "outputs": [
        {
          "output_type": "stream",
          "text": [
            "{0, 1, 2, 3, 4, 5, 6, 7, 8, 9}\n"
          ],
          "name": "stdout"
        }
      ]
    },
    {
      "cell_type": "code",
      "metadata": {
        "colab": {
          "base_uri": "https://localhost:8080/"
        },
        "id": "yf7vXOSfYGhT",
        "outputId": "d141f7a9-8837-4d99-f6b9-908f571022f9"
      },
      "source": [
        "w = ex1.intersection(ex3)\r\n",
        "print(w)"
      ],
      "execution_count": null,
      "outputs": [
        {
          "output_type": "stream",
          "text": [
            "{1, 3, 5}\n"
          ],
          "name": "stdout"
        }
      ]
    },
    {
      "cell_type": "code",
      "metadata": {
        "colab": {
          "base_uri": "https://localhost:8080/"
        },
        "id": "SOEeVv-tYcJs",
        "outputId": "05937791-838d-4e57-c257-30750ac27a65"
      },
      "source": [
        "x = ex1.difference(ex3)\r\n",
        "print(x)"
      ],
      "execution_count": null,
      "outputs": [
        {
          "output_type": "stream",
          "text": [
            "{9, 7}\n"
          ],
          "name": "stdout"
        }
      ]
    },
    {
      "cell_type": "code",
      "metadata": {
        "colab": {
          "base_uri": "https://localhost:8080/"
        },
        "id": "vdSgHYb9ZL8r",
        "outputId": "a79de962-327f-435f-d38e-50c2d414f36c"
      },
      "source": [
        "y = ex1.update(ex3)\r\n",
        "print(y)"
      ],
      "execution_count": null,
      "outputs": [
        {
          "output_type": "stream",
          "text": [
            "None\n"
          ],
          "name": "stdout"
        }
      ]
    },
    {
      "cell_type": "code",
      "metadata": {
        "colab": {
          "base_uri": "https://localhost:8080/"
        },
        "id": "DY5D94ZcaMk6",
        "outputId": "68f0dc74-6a17-47b7-9852-2cb009a397e6"
      },
      "source": [
        "\r\n",
        "print(ex1.issubset(ex2))"
      ],
      "execution_count": null,
      "outputs": [
        {
          "output_type": "stream",
          "text": [
            "False\n"
          ],
          "name": "stdout"
        }
      ]
    },
    {
      "cell_type": "code",
      "metadata": {
        "id": "4cH9x2JK5KQe",
        "colab": {
          "base_uri": "https://localhost:8080/"
        },
        "outputId": "b361b624-511a-40dd-f64f-04b6bb1b89d5"
      },
      "source": [
        "#strings are ordered, imutable, text representation\r\n",
        "\r\n",
        "my_string = 'Hello world!'\r\n",
        "print(my_string)\r\n"
      ],
      "execution_count": null,
      "outputs": [
        {
          "output_type": "stream",
          "text": [
            "Hello world!\n"
          ],
          "name": "stdout"
        }
      ]
    },
    {
      "cell_type": "code",
      "metadata": {
        "colab": {
          "base_uri": "https://localhost:8080/"
        },
        "id": "xp5D-6p_82T9",
        "outputId": "b40d0e35-7d00-4522-faba-8fc16062e6c5"
      },
      "source": [
        "char1 = my_string[0]\r\n",
        "char2 = my_string[1]\r\n",
        "char3 = my_string[2]\r\n",
        "char4 = my_string[3]\r\n",
        "char5 = my_string[4]\r\n",
        "\r\n",
        "print(char1)\r\n",
        "print(char2)\r\n",
        "print(char3)\r\n",
        "print(char4)\r\n",
        "print(char5)"
      ],
      "execution_count": null,
      "outputs": [
        {
          "output_type": "stream",
          "text": [
            "H\n",
            "e\n",
            "l\n",
            "l\n",
            "o\n"
          ],
          "name": "stdout"
        }
      ]
    },
    {
      "cell_type": "code",
      "metadata": {
        "id": "QhKDDIVgA4cH",
        "colab": {
          "base_uri": "https://localhost:8080/"
        },
        "outputId": "39a1ea20-ce6b-4ad4-856b-7e5ea4dbbd3f"
      },
      "source": [
        "char6 = my_string[-6]\r\n",
        "char7 = my_string[-5]\r\n",
        "char8 = my_string[-4]\r\n",
        "char9 = my_string[-3]\r\n",
        "char10 = my_string[-2]\r\n",
        "char11 = my_string[-1]\r\n",
        "\r\n",
        "print(char6)\r\n",
        "print(char7)\r\n",
        "print(char8)\r\n",
        "print(char9)\r\n",
        "print(char10)\r\n",
        "print(char11)\r\n"
      ],
      "execution_count": null,
      "outputs": [
        {
          "output_type": "stream",
          "text": [
            "w\n",
            "o\n",
            "r\n",
            "l\n",
            "d\n",
            "!\n"
          ],
          "name": "stdout"
        }
      ]
    },
    {
      "cell_type": "code",
      "metadata": {
        "colab": {
          "base_uri": "https://localhost:8080/"
        },
        "id": "1qqYedyHyAE5",
        "outputId": "1c5823a9-9e48-4218-b367-8710338c3650"
      },
      "source": [
        "#my_string[0] = 'z'   , don't work, because string are immutable \r\n",
        "\r\n",
        "substring = my_string[1:4]\r\n",
        "print(substring)"
      ],
      "execution_count": null,
      "outputs": [
        {
          "output_type": "stream",
          "text": [
            "ell\n"
          ],
          "name": "stdout"
        }
      ]
    },
    {
      "cell_type": "code",
      "metadata": {
        "colab": {
          "base_uri": "https://localhost:8080/"
        },
        "id": "4xq75DDgymse",
        "outputId": "f545dbd9-738d-475b-b297-177a13947c2e"
      },
      "source": [
        "substring1 = my_string[::-1]\r\n",
        "print(substring1)"
      ],
      "execution_count": null,
      "outputs": [
        {
          "output_type": "stream",
          "text": [
            "!dlrow olleH\n"
          ],
          "name": "stdout"
        }
      ]
    },
    {
      "cell_type": "code",
      "metadata": {
        "colab": {
          "base_uri": "https://localhost:8080/"
        },
        "id": "ZEgoTowBzLF2",
        "outputId": "4a938571-903e-41fd-8096-6d50bcd846af"
      },
      "source": [
        "greeting = 'Hello'\r\n",
        "for i in greeting :\r\n",
        "  print(i)"
      ],
      "execution_count": null,
      "outputs": [
        {
          "output_type": "stream",
          "text": [
            "H\n",
            "e\n",
            "l\n",
            "l\n",
            "o\n"
          ],
          "name": "stdout"
        }
      ]
    },
    {
      "cell_type": "code",
      "metadata": {
        "colab": {
          "base_uri": "https://localhost:8080/"
        },
        "id": "7lisjcePzyju",
        "outputId": "ae37767b-801e-4c40-ec14-48ff7eee09d8"
      },
      "source": [
        "fruits = ['banana', 'apple', 'orange']\r\n",
        "for i in fruits:\r\n",
        "  print(i)"
      ],
      "execution_count": null,
      "outputs": [
        {
          "output_type": "stream",
          "text": [
            "banana\n",
            "apple\n",
            "orange\n"
          ],
          "name": "stdout"
        }
      ]
    },
    {
      "cell_type": "code",
      "metadata": {
        "colab": {
          "base_uri": "https://localhost:8080/"
        },
        "id": "Wqc0tKos0I21",
        "outputId": "8868ec0e-0a36-4b40-ab95-897bb625c88c"
      },
      "source": [
        "game = 'league of legends'\r\n",
        "\r\n",
        "if 'e' in game:\r\n",
        "  print('Nice')\r\n",
        "else:\r\n",
        "  print('Wrong')\r\n",
        "\r\n"
      ],
      "execution_count": null,
      "outputs": [
        {
          "output_type": "stream",
          "text": [
            "Nice\n"
          ],
          "name": "stdout"
        }
      ]
    },
    {
      "cell_type": "code",
      "metadata": {
        "colab": {
          "base_uri": "https://localhost:8080/"
        },
        "id": "c-tt42S31hvk",
        "outputId": "6e3aacdd-3f12-48d3-bb73-32c3bba67561"
      },
      "source": [
        "string = 'how, are, you, doing'\r\n",
        "my_list = string.split(',')\r\n",
        "print(my_list)\r\n",
        "\r\n",
        "newstring = ''.join(my_list)\r\n",
        "print(newstring)"
      ],
      "execution_count": null,
      "outputs": [
        {
          "output_type": "stream",
          "text": [
            "['how', ' are', ' you', ' doing']\n",
            "how are you doing\n"
          ],
          "name": "stdout"
        }
      ]
    },
    {
      "cell_type": "code",
      "metadata": {
        "colab": {
          "base_uri": "https://localhost:8080/"
        },
        "id": "x1kWP9zy2xRs",
        "outputId": "44090a0e-d691-406a-a807-c8c045f4369e"
      },
      "source": [
        "list_string = ['a'] * 10\r\n",
        "print(list_string)"
      ],
      "execution_count": null,
      "outputs": [
        {
          "output_type": "stream",
          "text": [
            "['a', 'a', 'a', 'a', 'a', 'a', 'a', 'a', 'a', 'a']\n"
          ],
          "name": "stdout"
        }
      ]
    },
    {
      "cell_type": "code",
      "metadata": {
        "colab": {
          "base_uri": "https://localhost:8080/"
        },
        "id": "Kw574PaW3q2E",
        "outputId": "d8940566-8dc5-4de2-b9d8-9558954e17ae"
      },
      "source": [
        "#collections are counter , namedtuple, ordereddict, defaultdict, deque\r\n",
        "\r\n",
        "from collections import Counter\r\n",
        "a = 'aaaaaaaaabbbbbbbbccccdddddeeeeeeeeeefffffffffffffffhhhhzzzkkkpççoooooooooooooqqqttttttttt'\r\n",
        "\r\n",
        "mycounter = Counter(a)\r\n",
        "print(mycounter.items())\r\n",
        "print(mycounter)\r\n",
        "print(mycounter.keys())\r\n",
        "print(mycounter.values())\r\n",
        "print(mycounter.most_common(1))\r\n"
      ],
      "execution_count": null,
      "outputs": [
        {
          "output_type": "stream",
          "text": [
            "dict_items([('a', 9), ('b', 8), ('c', 4), ('d', 5), ('e', 10), ('f', 15), ('h', 4), ('z', 3), ('k', 3), ('p', 1), ('ç', 2), ('o', 13), ('q', 3), ('t', 9)])\n",
            "Counter({'f': 15, 'o': 13, 'e': 10, 'a': 9, 't': 9, 'b': 8, 'd': 5, 'c': 4, 'h': 4, 'z': 3, 'k': 3, 'q': 3, 'ç': 2, 'p': 1})\n",
            "dict_keys(['a', 'b', 'c', 'd', 'e', 'f', 'h', 'z', 'k', 'p', 'ç', 'o', 'q', 't'])\n",
            "dict_values([9, 8, 4, 5, 10, 15, 4, 3, 3, 1, 2, 13, 3, 9])\n",
            "[('f', 15)]\n"
          ],
          "name": "stdout"
        }
      ]
    },
    {
      "cell_type": "code",
      "metadata": {
        "id": "_LwASuma5OGf",
        "colab": {
          "base_uri": "https://localhost:8080/"
        },
        "outputId": "9bf6085b-4e55-447b-91c5-5fe22019d51f"
      },
      "source": [
        "from collections import namedtuple\r\n",
        "point = namedtuple('point','x, y')\r\n",
        "pt = point(5, -5)\r\n",
        "\r\n",
        "print(pt)"
      ],
      "execution_count": null,
      "outputs": [
        {
          "output_type": "stream",
          "text": [
            "point(x=5, y=-5)\n"
          ],
          "name": "stdout"
        }
      ]
    },
    {
      "cell_type": "code",
      "metadata": {
        "colab": {
          "base_uri": "https://localhost:8080/"
        },
        "id": "8ySb2MMaFd6r",
        "outputId": "553d83fd-fa60-479f-a9bf-1dcf7134f47b"
      },
      "source": [
        "from collections import OrderedDict\r\n",
        "ordered_dic = OrderedDict()\r\n",
        "\r\n",
        "ordered_dic['a'] = 5\r\n",
        "ordered_dic['b'] = 3\r\n",
        "ordered_dic['c'] = 2\r\n",
        "ordered_dic['d'] = 6\r\n",
        "ordered_dic['e'] = 9\r\n",
        "\r\n",
        "print(ordered_dic)"
      ],
      "execution_count": null,
      "outputs": [
        {
          "output_type": "stream",
          "text": [
            "OrderedDict([('a', 5), ('b', 3), ('c', 2), ('d', 6), ('e', 9)])\n"
          ],
          "name": "stdout"
        }
      ]
    },
    {
      "cell_type": "code",
      "metadata": {
        "colab": {
          "base_uri": "https://localhost:8080/"
        },
        "id": "_APv3N4_GtXB",
        "outputId": "a4ae9485-0baa-4328-aa48-b06c52d7a376"
      },
      "source": [
        "#itertools are product, permutation, , combinations, cummulate, groupby, and infinite intinerators\r\n",
        "\r\n",
        "from itertools import product\r\n",
        "a = [2,5]\r\n",
        "b = [3]\r\n",
        "prod = product(a, b, repeat = 2)\r\n",
        "\r\n",
        "print(list(prod))"
      ],
      "execution_count": null,
      "outputs": [
        {
          "output_type": "stream",
          "text": [
            "[(2, 3, 2, 3), (2, 3, 5, 3), (5, 3, 2, 3), (5, 3, 5, 3)]\n"
          ],
          "name": "stdout"
        }
      ]
    },
    {
      "cell_type": "code",
      "metadata": {
        "colab": {
          "base_uri": "https://localhost:8080/"
        },
        "id": "jG8sE7tcIN4J",
        "outputId": "eb9fa640-3c03-4c5f-b245-ab1167c96eb0"
      },
      "source": [
        "from itertools import permutations\r\n",
        "a = [2,5,6]\r\n",
        "perm = permutations(a)\r\n",
        "\r\n",
        "print(list(perm))\r\n"
      ],
      "execution_count": null,
      "outputs": [
        {
          "output_type": "stream",
          "text": [
            "[(2, 5, 6), (2, 6, 5), (5, 2, 6), (5, 6, 2), (6, 2, 5), (6, 5, 2)]\n"
          ],
          "name": "stdout"
        }
      ]
    },
    {
      "cell_type": "code",
      "metadata": {
        "colab": {
          "base_uri": "https://localhost:8080/"
        },
        "id": "0N4K-cqyKSDR",
        "outputId": "d13e9ae2-b5bb-4b16-d478-adc88cb683a5"
      },
      "source": [
        "from itertools import combinations\r\n",
        "a = [1, 2, 3 , 4, 5]\r\n",
        "comb = combinations(a, 3)\r\n",
        "\r\n",
        "print(list(comb))"
      ],
      "execution_count": null,
      "outputs": [
        {
          "output_type": "stream",
          "text": [
            "[(1, 2, 3), (1, 2, 4), (1, 2, 5), (1, 3, 4), (1, 3, 5), (1, 4, 5), (2, 3, 4), (2, 3, 5), (2, 4, 5), (3, 4, 5)]\n"
          ],
          "name": "stdout"
        }
      ]
    },
    {
      "cell_type": "code",
      "metadata": {
        "colab": {
          "base_uri": "https://localhost:8080/"
        },
        "id": "IE2_m4d4K0ZI",
        "outputId": "2993185f-d638-4fc8-813c-ead7f627f7e2"
      },
      "source": [
        "from itertools import combinations\r\n",
        "a = [1, 2, 3 , 4, 5]\r\n",
        "comb = combinations(a, 4)\r\n",
        "\r\n",
        "print(list(comb))"
      ],
      "execution_count": null,
      "outputs": [
        {
          "output_type": "stream",
          "text": [
            "[(1, 2, 3, 4), (1, 2, 3, 5), (1, 2, 4, 5), (1, 3, 4, 5), (2, 3, 4, 5)]\n"
          ],
          "name": "stdout"
        }
      ]
    },
    {
      "cell_type": "code",
      "metadata": {
        "colab": {
          "base_uri": "https://localhost:8080/"
        },
        "id": "RDfw13itLKV3",
        "outputId": "28d8e250-60b6-436e-df0b-f9b7b3fbc24e"
      },
      "source": [
        "from itertools import combinations\r\n",
        "a = [1, 2, 3 , 4, 5]\r\n",
        "comb = combinations(a, 2)\r\n",
        "\r\n",
        "print(list(comb))"
      ],
      "execution_count": null,
      "outputs": [
        {
          "output_type": "stream",
          "text": [
            "[(1, 2), (1, 3), (1, 4), (1, 5), (2, 3), (2, 4), (2, 5), (3, 4), (3, 5), (4, 5)]\n"
          ],
          "name": "stdout"
        }
      ]
    },
    {
      "cell_type": "code",
      "metadata": {
        "colab": {
          "base_uri": "https://localhost:8080/"
        },
        "id": "0RxFXbGZLNE_",
        "outputId": "3bd5f283-83a4-43d7-8edb-e8bf22ccb3b7"
      },
      "source": [
        "from itertools import combinations\r\n",
        "a = [1, 2, 3 , 4, 5]\r\n",
        "comb = combinations(a, 5)\r\n",
        "\r\n",
        "print(list(comb))"
      ],
      "execution_count": null,
      "outputs": [
        {
          "output_type": "stream",
          "text": [
            "[(1, 2, 3, 4, 5)]\n"
          ],
          "name": "stdout"
        }
      ]
    },
    {
      "cell_type": "code",
      "metadata": {
        "colab": {
          "base_uri": "https://localhost:8080/"
        },
        "id": "EG3J3uvdLP9_",
        "outputId": "b95f75af-57bd-4e91-f32b-5e8286742252"
      },
      "source": [
        "from itertools import accumulate\r\n",
        "import operator\r\n",
        "a = [1, 2, 3 , 4, 5]\r\n",
        "acc = accumulate(a, func = operator.mul)\r\n",
        "\r\n",
        "print(a)\r\n",
        "print(list(acc))"
      ],
      "execution_count": null,
      "outputs": [
        {
          "output_type": "stream",
          "text": [
            "[1, 2, 3, 4, 5]\n",
            "[1, 2, 6, 24, 120]\n"
          ],
          "name": "stdout"
        }
      ]
    },
    {
      "cell_type": "code",
      "metadata": {
        "id": "ZHIsSaeCMLqn",
        "colab": {
          "base_uri": "https://localhost:8080/"
        },
        "outputId": "47c03505-dcb4-4aa4-a0cb-28347bb8d421"
      },
      "source": [
        "#lambda are expression\r\n",
        "\r\n",
        "lam = lambda x: x + 10\r\n",
        "print(lam(8))"
      ],
      "execution_count": null,
      "outputs": [
        {
          "output_type": "stream",
          "text": [
            "18\n"
          ],
          "name": "stdout"
        }
      ]
    },
    {
      "cell_type": "code",
      "metadata": {
        "colab": {
          "base_uri": "https://localhost:8080/"
        },
        "id": "ijR87KITSJBW",
        "outputId": "1f5aa87c-15b5-464f-bd06-92c4b4196ef7"
      },
      "source": [
        "funclambda = lambda x: x + 11\r\n",
        "print(funclambda(10))\r\n",
        "\r\n",
        "\r\n",
        "\r\n",
        "mult = lambda x,y: x * y\r\n",
        "print(mult(3, 4))"
      ],
      "execution_count": 3,
      "outputs": [
        {
          "output_type": "stream",
          "text": [
            "21\n",
            "12\n"
          ],
          "name": "stdout"
        }
      ]
    },
    {
      "cell_type": "code",
      "metadata": {
        "id": "7BejTa08TUpl",
        "colab": {
          "base_uri": "https://localhost:8080/"
        },
        "outputId": "345c4d59-7f07-4e32-9769-045a806276da"
      },
      "source": [
        "points2d = [(1), (2), (3)]\r\n",
        "print(type(points2d))"
      ],
      "execution_count": 8,
      "outputs": [
        {
          "output_type": "stream",
          "text": [
            "<class 'list'>\n"
          ],
          "name": "stdout"
        }
      ]
    },
    {
      "cell_type": "code",
      "metadata": {
        "colab": {
          "base_uri": "https://localhost:8080/"
        },
        "id": "qyGs7g-U9rLG",
        "outputId": "97aef373-611a-4f00-952c-b5e4d68f2a97"
      },
      "source": [
        "points2d = [(1, -1), (2, -2), (3, -3)]\r\n",
        "print(points2d)\r\n",
        "\r\n",
        "sort = sorted(points2d, key = lambda x: x[1])\r\n",
        "print(sort)"
      ],
      "execution_count": 13,
      "outputs": [
        {
          "output_type": "stream",
          "text": [
            "[(1, -1), (2, -2), (3, -3)]\n",
            "[(3, -3), (2, -2), (1, -1)]\n"
          ],
          "name": "stdout"
        }
      ]
    },
    {
      "cell_type": "code",
      "metadata": {
        "colab": {
          "base_uri": "https://localhost:8080/"
        },
        "id": "O3mxdXQNE0LC",
        "outputId": "31c742af-c1b9-40c3-e0b7-e72493944d93"
      },
      "source": [
        "a1 = [1, 2, 3, 4, 5, 6 , 7, 8, 9]\r\n",
        "b1 = map(lambda x: x*2, a1)\r\n",
        "print(list(b1))\r\n",
        "\r\n",
        "\r\n",
        "#or\r\n",
        "c1 = [x*2 for x in a1]\r\n",
        "print(list(c1))"
      ],
      "execution_count": 20,
      "outputs": [
        {
          "output_type": "stream",
          "text": [
            "[2, 4, 6, 8, 10, 12, 14, 16, 18]\n",
            "[2, 4, 6, 8, 10, 12, 14, 16, 18]\n"
          ],
          "name": "stdout"
        }
      ]
    },
    {
      "cell_type": "code",
      "metadata": {
        "colab": {
          "base_uri": "https://localhost:8080/"
        },
        "id": "weXi3gWTGsl4",
        "outputId": "784d51e6-b9bf-44d3-ba7e-1e261b954e58"
      },
      "source": [
        "from functools import reduce\r\n",
        "a = [1, 2, 3, 4, 5]\r\n",
        "\r\n",
        "produt_a = reduce(lambda x, y: x*y, a)\r\n",
        "print(produt_a)"
      ],
      "execution_count": 21,
      "outputs": [
        {
          "output_type": "stream",
          "text": [
            "120\n"
          ],
          "name": "stdout"
        }
      ]
    },
    {
      "cell_type": "code",
      "metadata": {
        "colab": {
          "base_uri": "https://localhost:8080/"
        },
        "id": "UoWXl63AJp0_",
        "outputId": "65963006-bc1e-44a9-fffb-444fd1e3b281"
      },
      "source": [
        "#dunder/magic method\r\n",
        "\r\n",
        "list1 = [1, 2, 3, 4, 5, 6]\r\n",
        "\r\n",
        "print(list1 * 3)\r\n",
        "print(type(list1))"
      ],
      "execution_count": 25,
      "outputs": [
        {
          "output_type": "stream",
          "text": [
            "[1, 2, 3, 4, 5, 6, 1, 2, 3, 4, 5, 6, 1, 2, 3, 4, 5, 6]\n",
            "<class 'list'>\n"
          ],
          "name": "stdout"
        }
      ]
    },
    {
      "cell_type": "code",
      "metadata": {
        "id": "-fbZFoXUjjtm"
      },
      "source": [
        ""
      ],
      "execution_count": null,
      "outputs": []
    }
  ]
}