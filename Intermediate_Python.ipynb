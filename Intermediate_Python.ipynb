{
  "nbformat": 4,
  "nbformat_minor": 0,
  "metadata": {
    "colab": {
      "name": "Intermediate_Python.ipynb",
      "provenance": [],
      "collapsed_sections": [],
      "authorship_tag": "ABX9TyMh0aj7y/hBnBPu/H+Zw21h",
      "include_colab_link": true
    },
    "kernelspec": {
      "name": "python3",
      "display_name": "Python 3"
    }
  },
  "cells": [
    {
      "cell_type": "markdown",
      "metadata": {
        "id": "view-in-github",
        "colab_type": "text"
      },
      "source": [
        "<a href=\"https://colab.research.google.com/github/KazumaShachou/Python_learning/blob/main/Intermediate_Python.ipynb\" target=\"_parent\"><img src=\"https://colab.research.google.com/assets/colab-badge.svg\" alt=\"Open In Colab\"/></a>"
      ]
    },
    {
      "cell_type": "code",
      "metadata": {
        "colab": {
          "base_uri": "https://localhost:8080/"
        },
        "id": "aJH5BlyYDq2e",
        "outputId": "7ff60b17-9e2e-4bae-a996-febde6d9244d"
      },
      "source": [
        "dic = {'name':'kazuma', 'age':30, 'city': 'tokyo'}\r\n",
        "print(dic)  "
      ],
      "execution_count": null,
      "outputs": [
        {
          "output_type": "stream",
          "text": [
            "{'name': 'kazuma', 'age': 30, 'city': 'tokyo'}\n"
          ],
          "name": "stdout"
        }
      ]
    },
    {
      "cell_type": "code",
      "metadata": {
        "colab": {
          "base_uri": "https://localhost:8080/"
        },
        "id": "qtwy8blbaGTb",
        "outputId": "be978f9f-2b0d-48aa-d61f-4907463c0c23"
      },
      "source": [
        "dic2 = {'name':'pekora', 'age': 111, 'city': 'sapporo'}\r\n",
        "print(dic2)\r\n",
        "\r\n",
        "value = dic2['name']\r\n",
        "print(value)"
      ],
      "execution_count": null,
      "outputs": [
        {
          "output_type": "stream",
          "text": [
            "{'name': 'pekora', 'age': 111, 'city': 'sapporo'}\n",
            "pekora\n"
          ],
          "name": "stdout"
        }
      ]
    },
    {
      "cell_type": "code",
      "metadata": {
        "id": "R15z3xR0eRSO",
        "colab": {
          "base_uri": "https://localhost:8080/"
        },
        "outputId": "07507f49-6c13-4774-c04c-348891f6d968"
      },
      "source": [
        "  dic['email'] = 'kakakakak@gmail.com'\r\n",
        "  print(dic)"
      ],
      "execution_count": null,
      "outputs": [
        {
          "output_type": "stream",
          "text": [
            "{'name': 'kazuma', 'age': 30, 'city': 'tokyo', 'email': 'kakakakak@gmail.com'}\n"
          ],
          "name": "stdout"
        }
      ]
    },
    {
      "cell_type": "code",
      "metadata": {
        "colab": {
          "base_uri": "https://localhost:8080/"
        },
        "id": "Ox-lWSss4P8Z",
        "outputId": "5ce646d9-b16f-4d6e-dcc5-a4c747f538bb"
      },
      "source": [
        "del dic2['city']\r\n",
        "print(dic2)"
      ],
      "execution_count": null,
      "outputs": [
        {
          "output_type": "stream",
          "text": [
            "{'name': 'pekora', 'age': 111}\n"
          ],
          "name": "stdout"
        }
      ]
    },
    {
      "cell_type": "code",
      "metadata": {
        "colab": {
          "base_uri": "https://localhost:8080/"
        },
        "id": "s6qfzFHV4oM8",
        "outputId": "0d69728d-f6b5-4680-a3b8-0005438419b2"
      },
      "source": [
        "if 'name' in dic:\r\n",
        "  print(dic['name'])"
      ],
      "execution_count": null,
      "outputs": [
        {
          "output_type": "stream",
          "text": [
            "kazuma\n"
          ],
          "name": "stdout"
        }
      ]
    },
    {
      "cell_type": "code",
      "metadata": {
        "colab": {
          "base_uri": "https://localhost:8080/"
        },
        "id": "SbVu66Nt91Id",
        "outputId": "5c0d6cec-dff1-4a6f-9fa0-7924466380e8"
      },
      "source": [
        "try:\r\n",
        "  print(dic['name'])\r\n",
        "except:\r\n",
        "  print('error')"
      ],
      "execution_count": null,
      "outputs": [
        {
          "output_type": "stream",
          "text": [
            "kazuma\n"
          ],
          "name": "stdout"
        }
      ]
    },
    {
      "cell_type": "code",
      "metadata": {
        "colab": {
          "base_uri": "https://localhost:8080/"
        },
        "id": "ZdZlJy2K-jn5",
        "outputId": "d18e4cc9-a014-4f2a-c273-6edd10612109"
      },
      "source": [
        "try:\r\n",
        "  print(dic['lastname'])\r\n",
        "except:\r\n",
        "  print('error')"
      ],
      "execution_count": null,
      "outputs": [
        {
          "output_type": "stream",
          "text": [
            "error\n"
          ],
          "name": "stdout"
        }
      ]
    },
    {
      "cell_type": "code",
      "metadata": {
        "colab": {
          "base_uri": "https://localhost:8080/"
        },
        "id": "jnVmYm1b-0-B",
        "outputId": "bb25ebaa-7154-4eb5-b165-a6f0abb811dc"
      },
      "source": [
        "for key in dic.keys():\r\n",
        "  print(key)"
      ],
      "execution_count": null,
      "outputs": [
        {
          "output_type": "stream",
          "text": [
            "name\n",
            "age\n",
            "city\n",
            "email\n"
          ],
          "name": "stdout"
        }
      ]
    },
    {
      "cell_type": "code",
      "metadata": {
        "colab": {
          "base_uri": "https://localhost:8080/"
        },
        "id": "feRkFGiQGs5R",
        "outputId": "c6e3f8ad-5305-4c5e-e5c8-8a240abaa9bd"
      },
      "source": [
        "for value in dic.values():\r\n",
        "  print(value)"
      ],
      "execution_count": null,
      "outputs": [
        {
          "output_type": "stream",
          "text": [
            "kazuma\n",
            "30\n",
            "tokyo\n",
            "kakakakak@gmail.com\n"
          ],
          "name": "stdout"
        }
      ]
    },
    {
      "cell_type": "code",
      "metadata": {
        "colab": {
          "base_uri": "https://localhost:8080/"
        },
        "id": "sHzl5sOdG3z9",
        "outputId": "b8b6ef25-68b4-4a7c-ecaf-4d929b4b468d"
      },
      "source": [
        "for key, value in dic.items():\r\n",
        "  print(key, value)"
      ],
      "execution_count": null,
      "outputs": [
        {
          "output_type": "stream",
          "text": [
            "name kazuma\n",
            "age 30\n",
            "city tokyo\n",
            "email kakakakak@gmail.com\n"
          ],
          "name": "stdout"
        }
      ]
    },
    {
      "cell_type": "code",
      "metadata": {
        "id": "nQOCBiGBHryn",
        "colab": {
          "base_uri": "https://localhost:8080/"
        },
        "outputId": "b6382cc1-1b25-4b26-9fec-e9d968373d9b"
      },
      "source": [
        "#sets - unordered, mutable and no duplicates\r\n",
        "\r\n",
        "myset = {2, 3, 4}\r\n",
        "print(myset)"
      ],
      "execution_count": 27,
      "outputs": [
        {
          "output_type": "stream",
          "text": [
            "{2, 3, 4}\n"
          ],
          "name": "stdout"
        }
      ]
    },
    {
      "cell_type": "code",
      "metadata": {
        "colab": {
          "base_uri": "https://localhost:8080/"
        },
        "id": "H4klzn6HTley",
        "outputId": "1088afbb-7d75-4f66-90bf-f785757de6bd"
      },
      "source": [
        "myset = {2, 3, 4, 2, 3}\r\n",
        "print(myset)"
      ],
      "execution_count": 28,
      "outputs": [
        {
          "output_type": "stream",
          "text": [
            "{2, 3, 4}\n"
          ],
          "name": "stdout"
        }
      ]
    },
    {
      "cell_type": "code",
      "metadata": {
        "colab": {
          "base_uri": "https://localhost:8080/"
        },
        "id": "mVM-VKTpTtNN",
        "outputId": "fe935ac0-388b-45bd-e46c-d437387a1425"
      },
      "source": [
        "myset2 = set('Hello')\r\n",
        "print(myset2)"
      ],
      "execution_count": 29,
      "outputs": [
        {
          "output_type": "stream",
          "text": [
            "{'H', 'o', 'e', 'l'}\n"
          ],
          "name": "stdout"
        }
      ]
    },
    {
      "cell_type": "code",
      "metadata": {
        "colab": {
          "base_uri": "https://localhost:8080/"
        },
        "id": "fGLy3mIPUoKm",
        "outputId": "b1bf5cdf-961a-4a1c-8858-7973aca85199"
      },
      "source": [
        "myset3 = set()\r\n",
        "\r\n",
        "myset3.add(1)\r\n",
        "myset3.add(2)\r\n",
        "myset3.add(3)\r\n",
        "\r\n",
        "myset3.remove(3)  #can use discard too fin the place of remove\r\n",
        "\r\n",
        "print(myset3)"
      ],
      "execution_count": 31,
      "outputs": [
        {
          "output_type": "stream",
          "text": [
            "{1, 2}\n"
          ],
          "name": "stdout"
        }
      ]
    },
    {
      "cell_type": "code",
      "metadata": {
        "colab": {
          "base_uri": "https://localhost:8080/"
        },
        "id": "OImpKPDvVLh8",
        "outputId": "4dcf7dde-1956-4d9a-95e2-1e3a131db9a8"
      },
      "source": [
        "for i in myset3:\r\n",
        "  print(i)"
      ],
      "execution_count": 34,
      "outputs": [
        {
          "output_type": "stream",
          "text": [
            "1\n",
            "2\n"
          ],
          "name": "stdout"
        }
      ]
    },
    {
      "cell_type": "code",
      "metadata": {
        "colab": {
          "base_uri": "https://localhost:8080/"
        },
        "id": "nPbAMMQTVr39",
        "outputId": "657f19ee-5892-4ed3-edb8-9989f202ce42"
      },
      "source": [
        "ex1 = {1, 3, 5, 7, 9}\r\n",
        "ex2 = {2, 4, 6, 8, 0}\r\n",
        "ex3 = {1, 3, 11, 6, 14, 12, 5}\r\n",
        "\r\n",
        "u = ex1.union(ex3)\r\n",
        "print(u)"
      ],
      "execution_count": 35,
      "outputs": [
        {
          "output_type": "stream",
          "text": [
            "{1, 3, 5, 6, 7, 9, 11, 12, 14}\n"
          ],
          "name": "stdout"
        }
      ]
    },
    {
      "cell_type": "code",
      "metadata": {
        "colab": {
          "base_uri": "https://localhost:8080/"
        },
        "id": "rdA1fmmlYAbk",
        "outputId": "cee8dd77-210a-4f7c-a00f-2f095573263e"
      },
      "source": [
        "v = ex1.union(ex2)\r\n",
        "print(v)"
      ],
      "execution_count": 37,
      "outputs": [
        {
          "output_type": "stream",
          "text": [
            "{0, 1, 2, 3, 4, 5, 6, 7, 8, 9}\n"
          ],
          "name": "stdout"
        }
      ]
    },
    {
      "cell_type": "code",
      "metadata": {
        "colab": {
          "base_uri": "https://localhost:8080/"
        },
        "id": "yf7vXOSfYGhT",
        "outputId": "d141f7a9-8837-4d99-f6b9-908f571022f9"
      },
      "source": [
        "w = ex1.intersection(ex3)\r\n",
        "print(w)"
      ],
      "execution_count": 38,
      "outputs": [
        {
          "output_type": "stream",
          "text": [
            "{1, 3, 5}\n"
          ],
          "name": "stdout"
        }
      ]
    },
    {
      "cell_type": "code",
      "metadata": {
        "colab": {
          "base_uri": "https://localhost:8080/"
        },
        "id": "SOEeVv-tYcJs",
        "outputId": "05937791-838d-4e57-c257-30750ac27a65"
      },
      "source": [
        "x = ex1.difference(ex3)\r\n",
        "print(x)"
      ],
      "execution_count": 39,
      "outputs": [
        {
          "output_type": "stream",
          "text": [
            "{9, 7}\n"
          ],
          "name": "stdout"
        }
      ]
    },
    {
      "cell_type": "code",
      "metadata": {
        "colab": {
          "base_uri": "https://localhost:8080/"
        },
        "id": "vdSgHYb9ZL8r",
        "outputId": "a79de962-327f-435f-d38e-50c2d414f36c"
      },
      "source": [
        "y = ex1.update(ex3)\r\n",
        "print(y)"
      ],
      "execution_count": 41,
      "outputs": [
        {
          "output_type": "stream",
          "text": [
            "None\n"
          ],
          "name": "stdout"
        }
      ]
    },
    {
      "cell_type": "code",
      "metadata": {
        "colab": {
          "base_uri": "https://localhost:8080/"
        },
        "id": "DY5D94ZcaMk6",
        "outputId": "68f0dc74-6a17-47b7-9852-2cb009a397e6"
      },
      "source": [
        "\r\n",
        "print(ex1.issubset(ex2))"
      ],
      "execution_count": 47,
      "outputs": [
        {
          "output_type": "stream",
          "text": [
            "False\n"
          ],
          "name": "stdout"
        }
      ]
    },
    {
      "cell_type": "code",
      "metadata": {
        "id": "4cH9x2JK5KQe"
      },
      "source": [
        "#strings, lambda"
      ],
      "execution_count": null,
      "outputs": []
    }
  ]
}