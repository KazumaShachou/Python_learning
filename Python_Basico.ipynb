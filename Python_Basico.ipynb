{
  "nbformat": 4,
  "nbformat_minor": 0,
  "metadata": {
    "colab": {
      "name": "Python_Basico.ipynb",
      "provenance": []
    },
    "kernelspec": {
      "name": "python3",
      "display_name": "Python 3"
    }
  },
  "cells": [
    {
      "cell_type": "code",
      "metadata": {
        "id": "6kF5t0xDmeZ-",
        "colab": {
          "base_uri": "https://localhost:8080/"
        },
        "outputId": "e5774617-363f-4f5b-fa50-54ed8af1d793"
      },
      "source": [
        "nome = input(\"write your name: \\n\") #n representa quebra de linha, new line, caractere especial, e  a barra é representa o que vem depois, caracterer especial\n",
        "print(f\"Seu nome é {nome}\")"
      ],
      "execution_count": null,
      "outputs": [
        {
          "output_type": "stream",
          "text": [
            "write your name: \n",
            "NANI\n",
            "Seu nome é NANI\n"
          ],
          "name": "stdout"
        }
      ]
    },
    {
      "cell_type": "code",
      "metadata": {
        "colab": {
          "base_uri": "https://localhost:8080/"
        },
        "id": "bFEY25bV7zGQ",
        "outputId": "18dfc280-c9bb-44c1-f161-eee5eb9d1e5b"
      },
      "source": [
        "nome = input('digite seu nome: \\n')\n",
        "sobrenome = input('digite seu sobrenome: \\n')\n",
        "\n",
        "print(f'{nome} {sobrenome}')"
      ],
      "execution_count": null,
      "outputs": [
        {
          "output_type": "stream",
          "text": [
            "digite seu nome: \n",
            "Rai\n",
            "digite seu sobrenome: \n",
            "jr\n",
            "Rai jr\n"
          ],
          "name": "stdout"
        }
      ]
    },
    {
      "cell_type": "code",
      "metadata": {
        "id": "MtXyTH5A-HjI",
        "colab": {
          "base_uri": "https://localhost:8080/"
        },
        "outputId": "d04d70fd-5580-4396-e42c-d5c224439e98"
      },
      "source": [
        "#metodo lower\n",
        "texto1 = 'TEXTO'.lower()\n",
        "texto2 = 'texto'.upper()\n",
        "\n",
        "print(texto1)\n",
        "print(texto2)"
      ],
      "execution_count": null,
      "outputs": [
        {
          "output_type": "stream",
          "text": [
            "texto\n",
            "TEXTO\n"
          ],
          "name": "stdout"
        }
      ]
    },
    {
      "cell_type": "code",
      "metadata": {
        "colab": {
          "base_uri": "https://localhost:8080/"
        },
        "id": "39rTT9jsHU3O",
        "outputId": "02bac446-a9ee-43b6-a52e-2e696ea95c5f"
      },
      "source": [
        "texto3 = '             RAIMUNDO            '.strip()\n",
        "print(texto3)"
      ],
      "execution_count": null,
      "outputs": [
        {
          "output_type": "stream",
          "text": [
            "RAIMUNDO\n"
          ],
          "name": "stdout"
        }
      ]
    },
    {
      "cell_type": "code",
      "metadata": {
        "id": "NaszKu2uIWfc",
        "colab": {
          "base_uri": "https://localhost:8080/"
        },
        "outputId": "aa316d2d-f07c-4b0d-99d9-0a4fd5e721c2"
      },
      "source": [
        "nome = 'rai jg'\n",
        "quantidade_caracteres = len(nome)\n",
        "print(quantidade_caracteres)"
      ],
      "execution_count": null,
      "outputs": [
        {
          "output_type": "stream",
          "text": [
            "6\n"
          ],
          "name": "stdout"
        }
      ]
    },
    {
      "cell_type": "code",
      "metadata": {
        "colab": {
          "base_uri": "https://localhost:8080/"
        },
        "id": "Rzosvici-Wwg",
        "outputId": "39355f84-1d25-40ce-f7c8-99598c2e4274"
      },
      "source": [
        "#primeira letra do nome maiscula\n",
        "nome = 'rai'.capitalize()\n",
        "print(nome)"
      ],
      "execution_count": null,
      "outputs": [
        {
          "output_type": "stream",
          "text": [
            "Rai\n"
          ],
          "name": "stdout"
        }
      ]
    },
    {
      "cell_type": "code",
      "metadata": {
        "colab": {
          "base_uri": "https://localhost:8080/"
        },
        "id": "GkXytXJR-1O3",
        "outputId": "c0c81a14-f7be-45d2-afb6-b43dc32dafc2"
      },
      "source": [
        "#usando input  , capitalize serve para deixar primeira letra do nome maiscula, strip para tirar espaços\n",
        "nome = input('nome:\\n').strip().capitalize()\n",
        "sobrenome = input('sobrenome:\\n').strip().capitalize()\n",
        "print(f'{nome} {sobrenome}')"
      ],
      "execution_count": null,
      "outputs": [
        {
          "output_type": "stream",
          "text": [
            "nome:\n",
            "rai\n",
            "sobrenome:\n",
            "jr\n",
            "Rai Jr\n"
          ],
          "name": "stdout"
        }
      ]
    },
    {
      "cell_type": "code",
      "metadata": {
        "colab": {
          "base_uri": "https://localhost:8080/"
        },
        "id": "---LP1jR_LDX",
        "outputId": "7d20bbbc-051d-4f4d-907d-2df3fa2129f5"
      },
      "source": [
        "#SOMAR ,subtrair e etc\n",
        "numeroa = int(input('digite um numero'))\n",
        "numerob = int(input('digite outro numero'))\n",
        "resultado = numeroa+ numerob\n",
        "print(f' resultado de {numeroa} + {numerob} é {resultado}')"
      ],
      "execution_count": null,
      "outputs": [
        {
          "output_type": "stream",
          "text": [
            "digite um numero1\n",
            "digite outro numero1\n",
            " resultado de 1 + 1 é 2\n"
          ],
          "name": "stdout"
        }
      ]
    },
    {
      "cell_type": "code",
      "metadata": {
        "colab": {
          "base_uri": "https://localhost:8080/"
        },
        "id": "JrliqVzIDb6_",
        "outputId": "d5012ecf-87aa-48c9-e666-1d3fb0da93b5"
      },
      "source": [
        "#ou\n",
        "numero1 = int(input('digite um numero :\\n'))\n",
        "numero2 = int(input('digite outro numero :\\n'))\n",
        "print(numero1 + numero2)"
      ],
      "execution_count": null,
      "outputs": [
        {
          "output_type": "stream",
          "text": [
            "digite um numero :\n",
            "1\n",
            "digite outro numero :\n",
            "1\n",
            "2\n"
          ],
          "name": "stdout"
        }
      ]
    },
    {
      "cell_type": "code",
      "metadata": {
        "colab": {
          "base_uri": "https://localhost:8080/"
        },
        "id": "lhPE_gwCEjXf",
        "outputId": "203dfb9b-3f83-4d93-ff64-bf468010e305"
      },
      "source": [
        "#hora e data\n",
        "import datetime\n",
        "\n",
        "print(datetime.date.today())"
      ],
      "execution_count": null,
      "outputs": [
        {
          "output_type": "stream",
          "text": [
            "2020-12-08\n"
          ],
          "name": "stdout"
        }
      ]
    },
    {
      "cell_type": "code",
      "metadata": {
        "id": "sV3H1ujVGfTF",
        "colab": {
          "base_uri": "https://localhost:8080/"
        },
        "outputId": "fb6d4243-8942-4c11-8c26-28908d5a6c01"
      },
      "source": [
        "print(datetime.datetime.now())"
      ],
      "execution_count": null,
      "outputs": [
        {
          "output_type": "stream",
          "text": [
            "2020-12-08 09:19:25.379844\n"
          ],
          "name": "stdout"
        }
      ]
    },
    {
      "cell_type": "code",
      "metadata": {
        "colab": {
          "base_uri": "https://localhost:8080/"
        },
        "id": "SkmrPE9xpPv8",
        "outputId": "5d8f9ac6-1bf3-4b2a-a6f8-9b12cc8d5bad"
      },
      "source": [
        "horario = datetime.time(5,31,59)\n",
        "\n",
        "print(horario.hour)\n",
        "       \n",
        "print(horario)"
      ],
      "execution_count": null,
      "outputs": [
        {
          "output_type": "stream",
          "text": [
            "5\n",
            "05:31:59\n"
          ],
          "name": "stdout"
        }
      ]
    },
    {
      "cell_type": "code",
      "metadata": {
        "id": "nKbG81gbqTP7",
        "colab": {
          "base_uri": "https://localhost:8080/"
        },
        "outputId": "a5d8f563-752c-41f6-b2e2-dc04238fcef5"
      },
      "source": [
        "resposta = str(input('Escreva direita ou d para direita e esquerda ou e para esquerda'))\r\n",
        "def salao():\r\n",
        "  print('Você acabou de entrar em um salão que tem 2 portas a da direita e esquerda')\r\n",
        "  print('Você irá escolher direita ou esquerda? digite direita ou d para porta direita e esquerda ou e para porta esquerda')\r\n",
        "  if resposta == 'esquerda' or 'e' :\r\n",
        "    print('você escolheu a porta da esquerda, infelizmente você não achou nada de mais nela, tente novamente!')\r\n",
        "  elif resposta == 'direita' or 'd':\r\n",
        "    print('você escolheu a porta da direita, parabéns!! seu prêmio o aguarda!')\r\n",
        "  else :\r\n",
        "    print('você não escolheu nenhuma das opções válidas, tente novamente!')\r\n",
        "\r\n",
        "salao()"
      ],
      "execution_count": 6,
      "outputs": [
        {
          "output_type": "stream",
          "text": [
            "Escreva direita ou d para direita e esquerda ou e para esquerdae\n",
            "Você acabou de entrar em um salão que tem 2 portas a da direita e esquerda\n",
            "Você irá escolher direita ou esquerda? digite direita ou d para porta direita e esquerda ou e para porta esquerda\n",
            "você escolheu a porta da esquerda, infelizmente você não achou nada de mais nela, tente novamente!\n"
          ],
          "name": "stdout"
        }
      ]
    },
    {
      "cell_type": "code",
      "metadata": {
        "id": "x9slU2CFDkVn"
      },
      "source": [
        "#usando \"in\" você dará a resposta ao usuário caso ele escreva a palavra desejada, mesmo junto com 1 frase\r\n",
        "\r\n",
        "def jogo():\r\n",
        "  escolha_usuario = input('você pode escolher 2 classes, futurista emedieval, digite sua escolha aqui : \\n').lower()\r\n",
        "  if escolha_usuario  in 'medieval' :\r\n",
        "    print('você escolheu medieval, então recerá uma espada')\r\n",
        "  elif escolha_usuario in 'futurista':\r\n",
        "    print('você escolheu a classe futurista, receberá um sabre de luz')\r\n",
        "  else :\r\n",
        "    print('você digitou a palavra errada, tente novamente!')\r\n",
        "    jogo()\r\n",
        "\r\n",
        "jogo()"
      ],
      "execution_count": null,
      "outputs": []
    },
    {
      "cell_type": "code",
      "metadata": {
        "colab": {
          "base_uri": "https://localhost:8080/"
        },
        "id": "NscCahg0Ghb1",
        "outputId": "ca4689d8-e477-4f12-c2a0-e23a2d14dde7"
      },
      "source": [
        "#usando def\r\n",
        "def nomedapessoa():\r\n",
        "  nome = input('digite seu primeiro nome\\n : ').capitalize()\r\n",
        "  print(f'seu nome é {nome}')\r\n",
        "\r\n",
        "nomedapessoa()\r\n"
      ],
      "execution_count": 18,
      "outputs": [
        {
          "output_type": "stream",
          "text": [
            "digite seu primeiro nome\n",
            " : rai\n",
            "seu nome é Rai\n"
          ],
          "name": "stdout"
        }
      ]
    },
    {
      "cell_type": "code",
      "metadata": {
        "colab": {
          "base_uri": "https://localhost:8080/"
        },
        "id": "86fKYFJhJpxK",
        "outputId": "b6796cdf-7512-4010-d336-65ce01303c28"
      },
      "source": [
        "def somar():\r\n",
        "  a = 11\r\n",
        "  b = 22\r\n",
        "  resultado = a + b\r\n",
        "  print(f'o valor da soma de {a} + {b} é igual a {resultado}')\r\n",
        "\r\n",
        "somar()"
      ],
      "execution_count": 20,
      "outputs": [
        {
          "output_type": "stream",
          "text": [
            "o valor da soma de 11 + 22 é igual a 33\n"
          ],
          "name": "stdout"
        }
      ]
    },
    {
      "cell_type": "code",
      "metadata": {
        "id": "MwnRJEbkMcxT"
      },
      "source": [
        ""
      ],
      "execution_count": null,
      "outputs": []
    }
  ]
}