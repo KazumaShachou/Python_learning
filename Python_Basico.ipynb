{
  "nbformat": 4,
  "nbformat_minor": 0,
  "metadata": {
    "colab": {
      "name": "Python_Basico.ipynb",
      "provenance": [],
      "authorship_tag": "ABX9TyP2bZ7i5SCBKCNgJLxyfjYI"
    },
    "kernelspec": {
      "name": "python3",
      "display_name": "Python 3"
    }
  },
  "cells": [
    {
      "cell_type": "code",
      "metadata": {
        "id": "6kF5t0xDmeZ-",
        "colab": {
          "base_uri": "https://localhost:8080/"
        },
        "outputId": "e5774617-363f-4f5b-fa50-54ed8af1d793"
      },
      "source": [
        "nome = input(\"write your name: \\n\") #n representa quebra de linha, new line, caractere especial, e  a barra é representa o que vem depois, caracterer especial\n",
        "print(f\"Seu nome é {nome}\")"
      ],
      "execution_count": null,
      "outputs": [
        {
          "output_type": "stream",
          "text": [
            "write your name: \n",
            "NANI\n",
            "Seu nome é NANI\n"
          ],
          "name": "stdout"
        }
      ]
    },
    {
      "cell_type": "code",
      "metadata": {
        "colab": {
          "base_uri": "https://localhost:8080/"
        },
        "id": "bFEY25bV7zGQ",
        "outputId": "18dfc280-c9bb-44c1-f161-eee5eb9d1e5b"
      },
      "source": [
        "nome = input('digite seu nome: \\n')\n",
        "sobrenome = input('digite seu sobrenome: \\n')\n",
        "\n",
        "print(f'{nome} {sobrenome}')"
      ],
      "execution_count": null,
      "outputs": [
        {
          "output_type": "stream",
          "text": [
            "digite seu nome: \n",
            "Rai\n",
            "digite seu sobrenome: \n",
            "jr\n",
            "Rai jr\n"
          ],
          "name": "stdout"
        }
      ]
    },
    {
      "cell_type": "code",
      "metadata": {
        "id": "MtXyTH5A-HjI",
        "colab": {
          "base_uri": "https://localhost:8080/"
        },
        "outputId": "d04d70fd-5580-4396-e42c-d5c224439e98"
      },
      "source": [
        "#metodo lower\n",
        "texto1 = 'TEXTO'.lower()\n",
        "texto2 = 'texto'.upper()\n",
        "\n",
        "print(texto1)\n",
        "print(texto2)"
      ],
      "execution_count": null,
      "outputs": [
        {
          "output_type": "stream",
          "text": [
            "texto\n",
            "TEXTO\n"
          ],
          "name": "stdout"
        }
      ]
    },
    {
      "cell_type": "code",
      "metadata": {
        "colab": {
          "base_uri": "https://localhost:8080/"
        },
        "id": "39rTT9jsHU3O",
        "outputId": "02bac446-a9ee-43b6-a52e-2e696ea95c5f"
      },
      "source": [
        "texto3 = '             RAIMUNDO            '.strip()\n",
        "print(texto3)"
      ],
      "execution_count": null,
      "outputs": [
        {
          "output_type": "stream",
          "text": [
            "RAIMUNDO\n"
          ],
          "name": "stdout"
        }
      ]
    },
    {
      "cell_type": "code",
      "metadata": {
        "id": "NaszKu2uIWfc",
        "colab": {
          "base_uri": "https://localhost:8080/"
        },
        "outputId": "aa316d2d-f07c-4b0d-99d9-0a4fd5e721c2"
      },
      "source": [
        "nome = 'rai jg'\n",
        "quantidade_caracteres = len(nome)\n",
        "print(quantidade_caracteres)"
      ],
      "execution_count": null,
      "outputs": [
        {
          "output_type": "stream",
          "text": [
            "6\n"
          ],
          "name": "stdout"
        }
      ]
    },
    {
      "cell_type": "code",
      "metadata": {
        "colab": {
          "base_uri": "https://localhost:8080/"
        },
        "id": "Rzosvici-Wwg",
        "outputId": "39355f84-1d25-40ce-f7c8-99598c2e4274"
      },
      "source": [
        "#primeira letra do nome maiscula\n",
        "nome = 'rai'.capitalize()\n",
        "print(nome)"
      ],
      "execution_count": null,
      "outputs": [
        {
          "output_type": "stream",
          "text": [
            "Rai\n"
          ],
          "name": "stdout"
        }
      ]
    },
    {
      "cell_type": "code",
      "metadata": {
        "colab": {
          "base_uri": "https://localhost:8080/"
        },
        "id": "GkXytXJR-1O3",
        "outputId": "c0c81a14-f7be-45d2-afb6-b43dc32dafc2"
      },
      "source": [
        "#usando input  , capitalize serve para deixar primeira letra do nome maiscula, strip para tirar espaços\n",
        "nome = input('nome:\\n').strip().capitalize()\n",
        "sobrenome = input('sobrenome:\\n').strip().capitalize()\n",
        "print(f'{nome} {sobrenome}')"
      ],
      "execution_count": null,
      "outputs": [
        {
          "output_type": "stream",
          "text": [
            "nome:\n",
            "rai\n",
            "sobrenome:\n",
            "jr\n",
            "Rai Jr\n"
          ],
          "name": "stdout"
        }
      ]
    },
    {
      "cell_type": "code",
      "metadata": {
        "colab": {
          "base_uri": "https://localhost:8080/"
        },
        "id": "---LP1jR_LDX",
        "outputId": "7d20bbbc-051d-4f4d-907d-2df3fa2129f5"
      },
      "source": [
        "#SOMAR ,subtrair e etc\n",
        "numeroa = int(input('digite um numero'))\n",
        "numerob = int(input('digite outro numero'))\n",
        "resultado = numeroa+ numerob\n",
        "print(f' resultado de {numeroa} + {numerob} é {resultado}')"
      ],
      "execution_count": null,
      "outputs": [
        {
          "output_type": "stream",
          "text": [
            "digite um numero1\n",
            "digite outro numero1\n",
            " resultado de 1 + 1 é 2\n"
          ],
          "name": "stdout"
        }
      ]
    },
    {
      "cell_type": "code",
      "metadata": {
        "colab": {
          "base_uri": "https://localhost:8080/"
        },
        "id": "JrliqVzIDb6_",
        "outputId": "d5012ecf-87aa-48c9-e666-1d3fb0da93b5"
      },
      "source": [
        "#ou\n",
        "numero1 = int(input('digite um numero :\\n'))\n",
        "numero2 = int(input('digite outro numero :\\n'))\n",
        "print(numero1 + numero2)"
      ],
      "execution_count": null,
      "outputs": [
        {
          "output_type": "stream",
          "text": [
            "digite um numero :\n",
            "1\n",
            "digite outro numero :\n",
            "1\n",
            "2\n"
          ],
          "name": "stdout"
        }
      ]
    },
    {
      "cell_type": "code",
      "metadata": {
        "colab": {
          "base_uri": "https://localhost:8080/"
        },
        "id": "lhPE_gwCEjXf",
        "outputId": "203dfb9b-3f83-4d93-ff64-bf468010e305"
      },
      "source": [
        "#hora e data\n",
        "import datetime\n",
        "\n",
        "print(datetime.date.today())"
      ],
      "execution_count": null,
      "outputs": [
        {
          "output_type": "stream",
          "text": [
            "2020-12-08\n"
          ],
          "name": "stdout"
        }
      ]
    },
    {
      "cell_type": "code",
      "metadata": {
        "id": "sV3H1ujVGfTF",
        "colab": {
          "base_uri": "https://localhost:8080/"
        },
        "outputId": "fb6d4243-8942-4c11-8c26-28908d5a6c01"
      },
      "source": [
        "print(datetime.datetime.now())"
      ],
      "execution_count": null,
      "outputs": [
        {
          "output_type": "stream",
          "text": [
            "2020-12-08 09:19:25.379844\n"
          ],
          "name": "stdout"
        }
      ]
    },
    {
      "cell_type": "code",
      "metadata": {
        "colab": {
          "base_uri": "https://localhost:8080/"
        },
        "id": "SkmrPE9xpPv8",
        "outputId": "5d8f9ac6-1bf3-4b2a-a6f8-9b12cc8d5bad"
      },
      "source": [
        "horario = datetime.time(5,31,59)\n",
        "\n",
        "print(horario.hour)\n",
        "       \n",
        "print(horario)"
      ],
      "execution_count": null,
      "outputs": [
        {
          "output_type": "stream",
          "text": [
            "5\n",
            "05:31:59\n"
          ],
          "name": "stdout"
        }
      ]
    },
    {
      "cell_type": "code",
      "metadata": {
        "id": "nKbG81gbqTP7",
        "colab": {
          "base_uri": "https://localhost:8080/"
        },
        "outputId": "a5d8f563-752c-41f6-b2e2-dc04238fcef5"
      },
      "source": [
        "resposta = str(input('Escreva direita ou d para direita e esquerda ou e para esquerda'))\r\n",
        "def salao():\r\n",
        "  print('Você acabou de entrar em um salão que tem 2 portas a da direita e esquerda')\r\n",
        "  print('Você irá escolher direita ou esquerda? digite direita ou d para porta direita e esquerda ou e para porta esquerda')\r\n",
        "  if resposta == 'esquerda' or 'e' :\r\n",
        "    print('você escolheu a porta da esquerda, infelizmente você não achou nada de mais nela, tente novamente!')\r\n",
        "  elif resposta == 'direita' or 'd':\r\n",
        "    print('você escolheu a porta da direita, parabéns!! seu prêmio o aguarda!')\r\n",
        "  else :\r\n",
        "    print('você não escolheu nenhuma das opções válidas, tente novamente!')\r\n",
        "\r\n",
        "salao()"
      ],
      "execution_count": null,
      "outputs": [
        {
          "output_type": "stream",
          "text": [
            "Escreva direita ou d para direita e esquerda ou e para esquerdae\n",
            "Você acabou de entrar em um salão que tem 2 portas a da direita e esquerda\n",
            "Você irá escolher direita ou esquerda? digite direita ou d para porta direita e esquerda ou e para porta esquerda\n",
            "você escolheu a porta da esquerda, infelizmente você não achou nada de mais nela, tente novamente!\n"
          ],
          "name": "stdout"
        }
      ]
    },
    {
      "cell_type": "code",
      "metadata": {
        "id": "x9slU2CFDkVn"
      },
      "source": [
        "#usando \"in\" você dará a resposta ao usuário caso ele escreva a palavra desejada, mesmo junto com 1 frase\r\n",
        "\r\n",
        "def jogo():\r\n",
        "  escolha_usuario = input('você pode escolher 2 classes, futurista emedieval, digite sua escolha aqui : \\n').lower()\r\n",
        "  if escolha_usuario  in 'medieval' :\r\n",
        "    print('você escolheu medieval, então recerá uma espada')\r\n",
        "  elif escolha_usuario in 'futurista':\r\n",
        "    print('você escolheu a classe futurista, receberá um sabre de luz')\r\n",
        "  else :\r\n",
        "    print('você digitou a palavra errada, tente novamente!')\r\n",
        "    jogo()\r\n",
        "\r\n",
        "jogo()"
      ],
      "execution_count": null,
      "outputs": []
    },
    {
      "cell_type": "code",
      "metadata": {
        "colab": {
          "base_uri": "https://localhost:8080/"
        },
        "id": "NscCahg0Ghb1",
        "outputId": "ca4689d8-e477-4f12-c2a0-e23a2d14dde7"
      },
      "source": [
        "#usando def\r\n",
        "def nomedapessoa():\r\n",
        "  nome = input('digite seu primeiro nome\\n : ').capitalize()\r\n",
        "  print(f'seu nome é {nome}')\r\n",
        "\r\n",
        "nomedapessoa()\r\n"
      ],
      "execution_count": null,
      "outputs": [
        {
          "output_type": "stream",
          "text": [
            "digite seu primeiro nome\n",
            " : rai\n",
            "seu nome é Rai\n"
          ],
          "name": "stdout"
        }
      ]
    },
    {
      "cell_type": "code",
      "metadata": {
        "colab": {
          "base_uri": "https://localhost:8080/"
        },
        "id": "86fKYFJhJpxK",
        "outputId": "4508dc7c-d8ef-461b-8bf2-5cc43cde00ea"
      },
      "source": [
        "#paramentros estão dentro do parenteses quando eu Declaro a função -  parametros são o  a, b \r\n",
        "def somar(a, b):\r\n",
        "  resultado = a + b\r\n",
        "  print(f'o valor da soma de {a} + {b} é igual a {resultado}')\r\n",
        "\r\n",
        "#arguments estão dentro do parenteses quando eu chamo a função  - argumentos são os  112, 230 e etc\r\n",
        "somar(112, 230)\r\n",
        "somar(194, 999)\r\n",
        "somar(11, 11)"
      ],
      "execution_count": null,
      "outputs": [
        {
          "output_type": "stream",
          "text": [
            "o valor da soma de 112 + 230 é igual a 342\n",
            "o valor da soma de 194 + 999 é igual a 1193\n",
            "o valor da soma de 11 + 11 é igual a 22\n"
          ],
          "name": "stdout"
        }
      ]
    },
    {
      "cell_type": "code",
      "metadata": {
        "id": "MwnRJEbkMcxT",
        "colab": {
          "base_uri": "https://localhost:8080/"
        },
        "outputId": "b360a150-3f9a-49b7-b9c7-191342be0bf6"
      },
      "source": [
        "\r\n",
        "\r\n",
        "def sub(a,b):\r\n",
        "  resultado = a - b \r\n",
        "  print(resultado)\r\n",
        "\r\n",
        "#se eu quiser usar outro numero para subtrair\r\n",
        "sub(20, 1)"
      ],
      "execution_count": null,
      "outputs": [
        {
          "output_type": "stream",
          "text": [
            "19\n"
          ],
          "name": "stdout"
        }
      ]
    },
    {
      "cell_type": "code",
      "metadata": {
        "colab": {
          "base_uri": "https://localhost:8080/"
        },
        "id": "mwbXNIRWxA2J",
        "outputId": "63cbd8a2-3ab0-42f1-aaf7-7c4bd52d186e"
      },
      "source": [
        "#return pega o que a função faz e retorna tudo que há fora dela\r\n",
        "def sub (a, b):\r\n",
        "  resultado = a - b\r\n",
        "  return resultado\r\n",
        "\r\n",
        "print(sub(100, 90))\r\n",
        "\r\n",
        "print(sub(80, sub(90,60)))"
      ],
      "execution_count": null,
      "outputs": [
        {
          "output_type": "stream",
          "text": [
            "10\n",
            "50\n"
          ],
          "name": "stdout"
        }
      ]
    },
    {
      "cell_type": "code",
      "metadata": {
        "colab": {
          "base_uri": "https://localhost:8080/"
        },
        "id": "zvNdhuNEjrIV",
        "outputId": "6bcce158-f104-421a-ea34-2ec758e10646"
      },
      "source": [
        "#usando *args\r\n",
        "\r\n",
        "def exibirnumeros(*numeros):\r\n",
        "  print(numeros)\r\n",
        "  print(type(numeros))\r\n",
        "\r\n",
        "exibirnumeros(9, 11, 18, 7 , 4, 2, 1)"
      ],
      "execution_count": null,
      "outputs": [
        {
          "output_type": "stream",
          "text": [
            "(9, 11, 18, 7, 4, 2, 1)\n",
            "<class 'tuple'>\n"
          ],
          "name": "stdout"
        }
      ]
    },
    {
      "cell_type": "code",
      "metadata": {
        "colab": {
          "base_uri": "https://localhost:8080/"
        },
        "id": "Npp4cWKiqKIh",
        "outputId": "af43b972-ecbe-44fe-d577-6763379f786a"
      },
      "source": [
        "#retorna o maior valor\r\n",
        "def maiorvalor(*numeros):\r\n",
        "  print(numeros)\r\n",
        "  return max(numeros)\r\n",
        "\r\n",
        "maiorvalor(100, 19, 95, 34, 129, 111, 84, 90, 39)\r\n"
      ],
      "execution_count": null,
      "outputs": [
        {
          "output_type": "stream",
          "text": [
            "(100, 19, 95, 34, 129, 111, 84, 90, 39)\n"
          ],
          "name": "stdout"
        },
        {
          "output_type": "execute_result",
          "data": {
            "text/plain": [
              "129"
            ]
          },
          "metadata": {
            "tags": []
          },
          "execution_count": 15
        }
      ]
    },
    {
      "cell_type": "code",
      "metadata": {
        "colab": {
          "base_uri": "https://localhost:8080/"
        },
        "id": "4SnIWROC-Uon",
        "outputId": "4714e028-2a64-4293-bdf9-cd93cca8ca3c"
      },
      "source": [
        "#outro jeito de fazer igual\r\n",
        "# o * de numeros significa que TODA informação recebida, era ser transformada em tupla, ele forma multiplas tuplas\r\n",
        "#remover esse * faz com que você receba apenas 1 tupla como argumento, e passe a imformações em variaveis (maiornumero) e não diversos argumentos que são tuplas\r\n",
        "\r\n",
        "def maiorvalor(numeros):\r\n",
        "  print(numeros)\r\n",
        "  return max(numeros)\r\n",
        "\r\n",
        "checarvalor = (100, 19, 95, 34, 129, 111, 84, 90, 39)\r\n",
        "maiornumero = maiorvalor(checarvalor)   #qualquer informação dentro do \"maiorvalor\" irá ser transformada em tupla\r\n",
        "\r\n",
        "print(f'o maior valor de {checarvalor} é {maiornumero}')"
      ],
      "execution_count": null,
      "outputs": [
        {
          "output_type": "stream",
          "text": [
            "(100, 19, 95, 34, 129, 111, 84, 90, 39)\n",
            "o maior valor de (100, 19, 95, 34, 129, 111, 84, 90, 39) é 129\n"
          ],
          "name": "stdout"
        }
      ]
    },
    {
      "cell_type": "code",
      "metadata": {
        "colab": {
          "base_uri": "https://localhost:8080/"
        },
        "id": "raqefu6RNsUw",
        "outputId": "a389f192-1b4d-49fb-8327-d8de90d30abb"
      },
      "source": [
        "#max so recebe 1 tupla e não varias, então tem que tomar cuidado com isso.\r\n",
        "def maiorvalor(*numeros):\r\n",
        "  print(numeros)\r\n",
        "  return max(numeros)\r\n",
        "\r\n",
        "checarvalor = (100, 19, 95, 34, 129, 111, 84, 90, 39)\r\n",
        "maiornumero = maiorvalor(100, 19, 95, 34, 129, 111, 84, 90, 39)   #qualquer informação dentro do \"maiorvalor\" irá ser transformada em tupla\r\n",
        "\r\n",
        "print(f'o maior valor de {checarvalor} é {maiornumero}')"
      ],
      "execution_count": null,
      "outputs": [
        {
          "output_type": "stream",
          "text": [
            "(100, 19, 95, 34, 129, 111, 84, 90, 39)\n",
            "o maior valor de (100, 19, 95, 34, 129, 111, 84, 90, 39) é 129\n"
          ],
          "name": "stdout"
        }
      ]
    },
    {
      "cell_type": "code",
      "metadata": {
        "colab": {
          "base_uri": "https://localhost:8080/"
        },
        "id": "Nz_3laljRq4n",
        "outputId": "4e1714a7-eb10-4c9b-f2e9-f5ffcab76f4a"
      },
      "source": [
        "def menorvalor(*numeros):\r\n",
        "  print(numeros)\r\n",
        "  return min(numeros)\r\n",
        "\r\n",
        "checarvalor = (100, 19, 95, 34, 129, 111, 84, 90, 39)\r\n",
        "menornumero = menorvalor(100, 19, 95, 34, 129, 111, 84, 90, 39)\r\n",
        "\r\n",
        "print(f'o menor valor de {checarvalor} é {menornumero}')"
      ],
      "execution_count": null,
      "outputs": [
        {
          "output_type": "stream",
          "text": [
            "(100, 19, 95, 34, 129, 111, 84, 90, 39)\n",
            "o menor valor de (100, 19, 95, 34, 129, 111, 84, 90, 39) é 19\n"
          ],
          "name": "stdout"
        }
      ]
    },
    {
      "cell_type": "code",
      "metadata": {
        "colab": {
          "base_uri": "https://localhost:8080/"
        },
        "id": "4kywqgDqTbsL",
        "outputId": "4788becc-7ac9-4656-e875-f3fa9c75ac1e"
      },
      "source": [
        "# ou\r\n",
        "def menorvalor(numeros):\r\n",
        "  print(numeros)\r\n",
        "  return min(numeros)\r\n",
        "\r\n",
        "checarvalor = (100, 19, 95, 34, 129, 111, 84, 90, 39)\r\n",
        "menornumero = menorvalor(checarvalor)\r\n",
        "\r\n",
        "print(f'o menor valor de {checarvalor} é {menornumero}')"
      ],
      "execution_count": null,
      "outputs": [
        {
          "output_type": "stream",
          "text": [
            "(100, 19, 95, 34, 129, 111, 84, 90, 39)\n",
            "o menor valor de (100, 19, 95, 34, 129, 111, 84, 90, 39) é 19\n"
          ],
          "name": "stdout"
        }
      ]
    },
    {
      "cell_type": "code",
      "metadata": {
        "colab": {
          "base_uri": "https://localhost:8080/"
        },
        "id": "isD5DW-5TxSM",
        "outputId": "59fc482f-f1b6-4c62-c5fb-a0cb5e98d821"
      },
      "source": [
        "#ou\r\n",
        "def menorvalor(*numeros):\r\n",
        "  print(numeros)\r\n",
        "  return min(numeros)\r\n",
        "\r\n",
        "\r\n",
        "menornumero = menorvalor(100, 19, 95, 34, 129, 111, 84, 90, 39)\r\n",
        "print(f'o menor valor de {(100, 19, 95, 34, 129, 111, 84, 90, 39)} é {menornumero}')"
      ],
      "execution_count": null,
      "outputs": [
        {
          "output_type": "stream",
          "text": [
            "(100, 19, 95, 34, 129, 111, 84, 90, 39)\n",
            "o menor valor de (100, 19, 95, 34, 129, 111, 84, 90, 39) é 19\n"
          ],
          "name": "stdout"
        }
      ]
    },
    {
      "cell_type": "code",
      "metadata": {
        "colab": {
          "base_uri": "https://localhost:8080/"
        },
        "id": "yUm5ReTvV6KO",
        "outputId": "bf4a926f-3360-491d-bccf-bb8dd7293509"
      },
      "source": [
        "#abs = absolute, just positive\r\n",
        "print(abs(-6.6))"
      ],
      "execution_count": null,
      "outputs": [
        {
          "output_type": "stream",
          "text": [
            "6.6\n"
          ],
          "name": "stdout"
        }
      ]
    },
    {
      "cell_type": "code",
      "metadata": {
        "colab": {
          "base_uri": "https://localhost:8080/"
        },
        "id": "OwJIWFcngWJ_",
        "outputId": "9bfe37a0-abea-401d-8322-49c716c70e70"
      },
      "source": [
        "#round = 6.7 to 7 for example\r\n",
        "print(round(6.6))\r\n",
        "print(round(9.7))\r\n",
        "\r\n",
        "\r\n",
        "#sempre irá arredondar para o numero par mais próximo para evitar perdas, uma lei da programação em alguns programas, por isso os 2 numeros seguintes darão 8\r\n",
        "print(round(7.5))\r\n",
        "print(round(8.5))"
      ],
      "execution_count": null,
      "outputs": [
        {
          "output_type": "stream",
          "text": [
            "7\n",
            "10\n",
            "8\n",
            "8\n"
          ],
          "name": "stdout"
        }
      ]
    },
    {
      "cell_type": "markdown",
      "metadata": {
        "id": "wcQ5Lz0atL0p"
      },
      "source": [
        "Exercicio : Criar uma função valor_hotel que receba parâmetro chamado diaria e retorne o custo do hotel, i diária vale 140 reais\r\n"
      ]
    },
    {
      "cell_type": "code",
      "metadata": {
        "colab": {
          "base_uri": "https://localhost:8080/"
        },
        "id": "heTm2mDagkNt",
        "outputId": "3f9e448c-c0d8-45a9-c765-59b0957f9061"
      },
      "source": [
        "def valor_hotel(diaria):\r\n",
        "  custo_estadia = diaria * 140\r\n",
        "  return custo_estadia\r\n",
        "\r\n",
        "print(f'O valor total de diarias no hotel foi de R${valor_hotel(7)} Reais')"
      ],
      "execution_count": null,
      "outputs": [
        {
          "output_type": "stream",
          "text": [
            "O valor total de diarias no hotel foi de R$980 Reais\n"
          ],
          "name": "stdout"
        }
      ]
    },
    {
      "cell_type": "code",
      "metadata": {
        "colab": {
          "base_uri": "https://localhost:8080/"
        },
        "id": "KQUCeB7Z3yQE",
        "outputId": "11824628-7f06-4b80-ba8d-45d9db686734"
      },
      "source": [
        "#alguem de carro\r\n",
        "\r\n",
        "def aluguel_carro(dias):\r\n",
        "\r\n",
        "  valor_total = dias *40  #preço aluguel diario\r\n",
        "  if dias >= 7 :\r\n",
        "    valor_total -= 50\r\n",
        "  elif dias >=2 :\r\n",
        "    valor_hotel -= 20\r\n",
        "  return valor_total\r\n",
        "\r\n",
        "dias = int(input('Digite o numero de dias'))\r\n",
        "custo = aluguel_carro(dias)\r\n",
        "\r\n",
        "print(f'o custo total do aluguel do carro para { dias} dias será no valor de R$ {custo}')"
      ],
      "execution_count": null,
      "outputs": [
        {
          "output_type": "stream",
          "text": [
            "Digite o numero de dias22\n",
            "o custo total do aluguel do carro para 22 dias será no valor de R$ 830\n"
          ],
          "name": "stdout"
        }
      ]
    },
    {
      "cell_type": "markdown",
      "metadata": {
        "id": "bfufEPRtVS4C"
      },
      "source": [
        "Listas\r\n"
      ]
    },
    {
      "cell_type": "code",
      "metadata": {
        "colab": {
          "base_uri": "https://localhost:8080/"
        },
        "id": "N2IWXwllS-CF",
        "outputId": "b566bdb0-a6db-4773-882e-8398e3909e30"
      },
      "source": [
        "#colchetes iniciam uma lista\r\n",
        "\r\n",
        "lista = [4, 2, 5, 6, 9, 1]\r\n",
        "\r\n",
        "print(type(lista))\r\n",
        "\r\n",
        "print(lista)"
      ],
      "execution_count": null,
      "outputs": [
        {
          "output_type": "stream",
          "text": [
            "<class 'list'>\n",
            "[4, 2, 5, 6, 9, 1]\n"
          ],
          "name": "stdout"
        }
      ]
    },
    {
      "cell_type": "code",
      "metadata": {
        "colab": {
          "base_uri": "https://localhost:8080/"
        },
        "id": "cac93RiwVnxF",
        "outputId": "93d94647-ad83-4f4c-9488-9443e90c15ec"
      },
      "source": [
        "primeiro_numero = lista[0]\r\n",
        "primeiro_numero"
      ],
      "execution_count": null,
      "outputs": [
        {
          "output_type": "execute_result",
          "data": {
            "text/plain": [
              "4"
            ]
          },
          "metadata": {
            "tags": []
          },
          "execution_count": 31
        }
      ]
    },
    {
      "cell_type": "code",
      "metadata": {
        "colab": {
          "base_uri": "https://localhost:8080/"
        },
        "id": "I9jU4DWHWuhR",
        "outputId": "9ebfd0d0-f64f-4030-e5f9-e875dca8aa2f"
      },
      "source": [
        "ultimo_numero = lista[5]\r\n",
        "ultimo_numero"
      ],
      "execution_count": null,
      "outputs": [
        {
          "output_type": "execute_result",
          "data": {
            "text/plain": [
              "1"
            ]
          },
          "metadata": {
            "tags": []
          },
          "execution_count": 33
        }
      ]
    },
    {
      "cell_type": "code",
      "metadata": {
        "id": "2lYjbw1EW3th",
        "colab": {
          "base_uri": "https://localhost:8080/"
        },
        "outputId": "71428b16-f439-4f9b-c9b7-97b185b38b5a"
      },
      "source": [
        "  lista = [3, 8 ,11, 9, 4, 2, 0]\r\n",
        "\r\n",
        "  print(lista[0])\r\n",
        "  print(lista)\r\n",
        "\r\n",
        "  #quando eu mudo o valor do primeiro item da lista de 3 para 111\r\n",
        "\r\n",
        "  lista[0] = 111\r\n",
        "\r\n",
        "  print(lista[0])\r\n",
        "  print(lista)"
      ],
      "execution_count": 3,
      "outputs": [
        {
          "output_type": "stream",
          "text": [
            "3\n",
            "[3, 8, 11, 9, 4, 2, 0]\n",
            "111\n",
            "[111, 8, 11, 9, 4, 2, 0]\n"
          ],
          "name": "stdout"
        }
      ]
    },
    {
      "cell_type": "code",
      "metadata": {
        "colab": {
          "base_uri": "https://localhost:8080/"
        },
        "id": "6cDD0669QiCJ",
        "outputId": "ae0f3eae-9eea-4886-e434-86e2b856d5d3"
      },
      "source": [
        "lista = [111, 8, 11, 9, 4, 2, 0]\r\n",
        "\r\n",
        "lista.append(999)\r\n",
        "\r\n",
        "print(lista)\r\n"
      ],
      "execution_count": 6,
      "outputs": [
        {
          "output_type": "stream",
          "text": [
            "[111, 8, 11, 9, 4, 2, 0, 999]\n"
          ],
          "name": "stdout"
        }
      ]
    },
    {
      "cell_type": "code",
      "metadata": {
        "colab": {
          "base_uri": "https://localhost:8080/"
        },
        "id": "p5BwPtybRTw_",
        "outputId": "85041d80-58a2-4ec3-9582-faf18fb69036"
      },
      "source": [
        "#pego os items do indice 0 até o 3 , para fazer isso uso : para pegar o que eu quiser , mas para antes do indice anterior (9) então pega 3 primeiros itens\r\n",
        "lista[0:3]"
      ],
      "execution_count": 7,
      "outputs": [
        {
          "output_type": "execute_result",
          "data": {
            "text/plain": [
              "[111, 8, 11]"
            ]
          },
          "metadata": {
            "tags": []
          },
          "execution_count": 7
        }
      ]
    },
    {
      "cell_type": "code",
      "metadata": {
        "colab": {
          "base_uri": "https://localhost:8080/"
        },
        "id": "wQkxYyyXRpj9",
        "outputId": "25e96ae7-7f41-40ba-f17d-a7ebbb298f29"
      },
      "source": [
        "#pego do indice 5 em diante\r\n",
        "lista[5:]"
      ],
      "execution_count": 8,
      "outputs": [
        {
          "output_type": "execute_result",
          "data": {
            "text/plain": [
              "[2, 0, 999]"
            ]
          },
          "metadata": {
            "tags": []
          },
          "execution_count": 8
        }
      ]
    },
    {
      "cell_type": "code",
      "metadata": {
        "colab": {
          "base_uri": "https://localhost:8080/"
        },
        "id": "nEApiiaLSE0p",
        "outputId": "92ec083a-eb7d-4628-d67c-9b7e01a90ccd"
      },
      "source": [
        "#pegando itens antes do indice 5\r\n",
        "lista[:5]"
      ],
      "execution_count": 9,
      "outputs": [
        {
          "output_type": "execute_result",
          "data": {
            "text/plain": [
              "[111, 8, 11, 9, 4]"
            ]
          },
          "metadata": {
            "tags": []
          },
          "execution_count": 9
        }
      ]
    },
    {
      "cell_type": "code",
      "metadata": {
        "colab": {
          "base_uri": "https://localhost:8080/"
        },
        "id": "LFJ-i4tnSYV0",
        "outputId": "81b9b532-6995-4c0d-ea6d-3a4b3d59dae4"
      },
      "source": [
        "#ultimo item da lista\r\n",
        "lista[-1]"
      ],
      "execution_count": 10,
      "outputs": [
        {
          "output_type": "execute_result",
          "data": {
            "text/plain": [
              "999"
            ]
          },
          "metadata": {
            "tags": []
          },
          "execution_count": 10
        }
      ]
    },
    {
      "cell_type": "code",
      "metadata": {
        "colab": {
          "base_uri": "https://localhost:8080/"
        },
        "id": "Vnfxvl-BSbHY",
        "outputId": "18a817d1-d86f-4677-84c7-00394ed9f9a0"
      },
      "source": [
        "#pego items antes do ultimo item em diante, é muito util caso exista muitos itens na lista\r\n",
        "lista[:-1]"
      ],
      "execution_count": 30,
      "outputs": [
        {
          "output_type": "execute_result",
          "data": {
            "text/plain": [
              "[111, 8, 11, 44, 44, 9, 4, 2, 0]"
            ]
          },
          "metadata": {
            "tags": []
          },
          "execution_count": 30
        }
      ]
    },
    {
      "cell_type": "code",
      "metadata": {
        "colab": {
          "base_uri": "https://localhost:8080/"
        },
        "id": "fHNrAUkGShU9",
        "outputId": "9d931b68-8191-457e-9eeb-5757d6edda3f"
      },
      "source": [
        "#criando lista\r\n",
        "\r\n",
        "animais = 'catdoglionbirdfrog'\r\n",
        "\r\n",
        "cat = animais[0:3]\r\n",
        "print(cat)\r\n",
        "\r\n",
        "dog = animais[3:6]\r\n",
        "print(dog)\r\n",
        "\r\n",
        "lion = animais[6:10]\r\n",
        "print(lion)\r\n",
        "\r\n",
        "bird = animais[10:14]\r\n",
        "print(bird)\r\n",
        "\r\n",
        "frog = animais[14:]\r\n",
        "print(frog)\r\n"
      ],
      "execution_count": 33,
      "outputs": [
        {
          "output_type": "stream",
          "text": [
            "cat\n",
            "dog\n",
            "lion\n",
            "bird\n",
            "frog\n"
          ],
          "name": "stdout"
        }
      ]
    },
    {
      "cell_type": "code",
      "metadata": {
        "colab": {
          "base_uri": "https://localhost:8080/"
        },
        "id": "TmQwrmToT7We",
        "outputId": "2509e00c-3d64-418b-9b10-ed5b8113e413"
      },
      "source": [
        "animais = ['cat', 'dog', 'lion', 'bird', 'frog']\r\n",
        "\r\n",
        "def listadeanimais(animal):\r\n",
        "  if animal in animais:  #procurar se um animal está ou não na lista de animais, usando in \r\n",
        "    info_animal = animais.index(animal)   #achar a posição do animal usando o index\r\n",
        "    print(f'O animal {animal} está na posição {info_animal} da lista')\r\n",
        "  else :\r\n",
        "    print('Animal não encontrado na lista')\r\n",
        "\r\n",
        "listadeanimais(input('Digite o nome do animal desejado \\n').lower())\r\n"
      ],
      "execution_count": 44,
      "outputs": [
        {
          "output_type": "stream",
          "text": [
            "Digite o nome do animal desejado \n",
            "CAT\n",
            "O animal cat está na posição 0 da lista\n"
          ],
          "name": "stdout"
        }
      ]
    },
    {
      "cell_type": "code",
      "metadata": {
        "colab": {
          "base_uri": "https://localhost:8080/"
        },
        "id": "K9-cdfrvXqzC",
        "outputId": "748dfeec-afe6-4035-b6c4-dfd395d2a480"
      },
      "source": [
        "#inserir 1 numero em 1 lugar na lista\r\n",
        "\r\n",
        "print(animais) #antes de inserir o indice\r\n",
        "\r\n",
        "animais.insert(1, 'parrot')\r\n",
        "print(animais) #print ja com o \"parrot\" inserido na lista"
      ],
      "execution_count": 45,
      "outputs": [
        {
          "output_type": "stream",
          "text": [
            "['cat', 'dog', 'lion', 'bird', 'frog']\n",
            "['cat', 'parrot', 'dog', 'lion', 'bird', 'frog']\n"
          ],
          "name": "stdout"
        }
      ]
    },
    {
      "cell_type": "code",
      "metadata": {
        "colab": {
          "base_uri": "https://localhost:8080/"
        },
        "id": "4KxxhD9Yekdh",
        "outputId": "d0fd4007-f405-4d4b-d63a-ed3af68b5e0e"
      },
      "source": [
        "animais = ['cat', 'dog', 'lion', 'bird', 'frog']\r\n",
        "\r\n",
        "for animal in animais:\r\n",
        "  if animal == 'cat' or animal == 'dog':\r\n",
        "    print(animal)"
      ],
      "execution_count": 6,
      "outputs": [
        {
          "output_type": "stream",
          "text": [
            "cat\n",
            "dog\n"
          ],
          "name": "stdout"
        }
      ]
    },
    {
      "cell_type": "code",
      "metadata": {
        "colab": {
          "base_uri": "https://localhost:8080/"
        },
        "id": "mDfdixoUq2xn",
        "outputId": "4f9f49cf-5966-4d9e-8900-0b7f9f566eb5"
      },
      "source": [
        "animais = ['cat', 'dog', 'lion', 'bird', 'frog']\r\n",
        "\r\n",
        "for animal in animais:\r\n",
        "  if animal != 'cat':\r\n",
        "    print(animal)\r\n",
        "  else :\r\n",
        "    print('Nya')"
      ],
      "execution_count": 8,
      "outputs": [
        {
          "output_type": "stream",
          "text": [
            "Nya\n",
            "dog\n",
            "lion\n",
            "bird\n",
            "frog\n"
          ],
          "name": "stdout"
        }
      ]
    },
    {
      "cell_type": "code",
      "metadata": {
        "colab": {
          "base_uri": "https://localhost:8080/"
        },
        "id": "HFlGSgu5r1We",
        "outputId": "f4096854-3660-4d93-cf7a-d1187ceda986"
      },
      "source": [
        "#range\r\n",
        "print(range(10))\r\n",
        "\r\n",
        "for indice in range(10):  #10 objects 0 until 9\r\n",
        "  print(indice)"
      ],
      "execution_count": 12,
      "outputs": [
        {
          "output_type": "stream",
          "text": [
            "range(0, 10)\n",
            "0\n",
            "1\n",
            "2\n",
            "3\n",
            "4\n",
            "5\n",
            "6\n",
            "7\n",
            "8\n",
            "9\n"
          ],
          "name": "stdout"
        }
      ]
    },
    {
      "cell_type": "code",
      "metadata": {
        "colab": {
          "base_uri": "https://localhost:8080/"
        },
        "id": "dWOvtKnftXcZ",
        "outputId": "b79910d1-2203-4753-b526-14fee578eb5a"
      },
      "source": [
        "animais = ['cat', 'dog', 'lion', 'bird', 'frog']\r\n",
        "\r\n",
        "for indice in range(len(animal)):\r\n",
        "  animal = animais[indice]\r\n",
        "  print(animal)\r\n",
        "  print(indice)"
      ],
      "execution_count": 17,
      "outputs": [
        {
          "output_type": "stream",
          "text": [
            "cat\n",
            "0\n",
            "dog\n",
            "1\n",
            "lion\n",
            "2\n",
            "bird\n",
            "3\n"
          ],
          "name": "stdout"
        }
      ]
    },
    {
      "cell_type": "code",
      "metadata": {
        "colab": {
          "base_uri": "https://localhost:8080/"
        },
        "id": "JwB20F72v7yX",
        "outputId": "6cc8b0b3-835f-4cf5-84ca-d806a4cdffa2"
      },
      "source": [
        "#tuplas\r\n",
        "\r\n",
        "tupla = (5, 9, 1, 23, 8, 4, 7)\r\n",
        "print(tupla, type(tupla))\r\n",
        "\r\n",
        "primeiro_elemento = tupla[0]\r\n",
        "print(primeiro_elemento)"
      ],
      "execution_count": 20,
      "outputs": [
        {
          "output_type": "stream",
          "text": [
            "(5, 9, 1, 23, 8, 4, 7) <class 'tuple'>\n",
            "5\n"
          ],
          "name": "stdout"
        }
      ]
    },
    {
      "cell_type": "code",
      "metadata": {
        "id": "MmNmYOHt1bFC"
      },
      "source": [
        "#tupla não podem ter seus itens alterados\r\n",
        "\r\n",
        "#tupla[0] = 99  #não funciona"
      ],
      "execution_count": 22,
      "outputs": []
    },
    {
      "cell_type": "code",
      "metadata": {
        "colab": {
          "base_uri": "https://localhost:8080/"
        },
        "id": "DcjF4MIi2EAk",
        "outputId": "47133cab-1c43-405f-8407-9e0efc4b8b1c"
      },
      "source": [
        "tupla_animais = ('gato', 'cachorro', 'leão', 'macaco', 'sapo', 'jirafa', 'preguiça')\r\n",
        "\r\n",
        "primeiro_animal, segundo_animal, terceiro_animal, quarto_animal, quinto_animal, sexto_animal, setimo_animal = tupla_animais\r\n",
        "\r\n",
        "print(primeiro_animal)\r\n",
        "print(quinto_animal)"
      ],
      "execution_count": 25,
      "outputs": [
        {
          "output_type": "stream",
          "text": [
            "gato\n",
            "sapo\n"
          ],
          "name": "stdout"
        }
      ]
    },
    {
      "cell_type": "code",
      "metadata": {
        "id": "cAQBlVgp4ulI"
      },
      "source": [
        ""
      ],
      "execution_count": null,
      "outputs": []
    }
  ]
}