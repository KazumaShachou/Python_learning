{
  "nbformat": 4,
  "nbformat_minor": 0,
  "metadata": {
    "colab": {
      "name": "Python_Basico.ipynb",
      "provenance": [],
      "authorship_tag": "ABX9TyOI241/wdButOiQqs5veqT5"
    },
    "kernelspec": {
      "name": "python3",
      "display_name": "Python 3"
    }
  },
  "cells": [
    {
      "cell_type": "code",
      "metadata": {
        "id": "6kF5t0xDmeZ-",
        "colab": {
          "base_uri": "https://localhost:8080/"
        },
        "outputId": "3984c217-fcf9-47fa-b41c-ac87cf165cc6"
      },
      "source": [
        "nome = input(\"write your name: \\n\") #n representa quebra de linha, new line, caractere especial, e  a barra é representa o que vem depois, caracterer especial\n",
        "print(f\"Seu nome é {nome}\")"
      ],
      "execution_count": 2,
      "outputs": [
        {
          "output_type": "stream",
          "text": [
            "write your name: \n",
            "rai\n",
            "Seu nome é rai\n"
          ],
          "name": "stdout"
        }
      ]
    },
    {
      "cell_type": "code",
      "metadata": {
        "colab": {
          "base_uri": "https://localhost:8080/"
        },
        "id": "bFEY25bV7zGQ",
        "outputId": "3b852aef-4e4e-4e29-fcb4-ccf464b1f5fa"
      },
      "source": [
        "nome = input('digite seu nome: \\n')\n",
        "sobrenome = input('digite seu sobrenome: \\n')\n",
        "\n",
        "print(f'{nome} {sobrenome}')"
      ],
      "execution_count": 3,
      "outputs": [
        {
          "output_type": "stream",
          "text": [
            "digite seu nome: \n",
            "rai\n",
            "digite seu sobrenome: \n",
            "jr\n",
            "rai jr\n"
          ],
          "name": "stdout"
        }
      ]
    },
    {
      "cell_type": "code",
      "metadata": {
        "id": "MtXyTH5A-HjI",
        "colab": {
          "base_uri": "https://localhost:8080/"
        },
        "outputId": "b491d812-9964-4845-ac7d-7e6a0c352776"
      },
      "source": [
        "#metodo lower\n",
        "texto1 = 'TEXTO'.lower()\n",
        "texto2 = 'texto'.upper()\n",
        "\n",
        "print(texto1)\n",
        "print(texto2)"
      ],
      "execution_count": 4,
      "outputs": [
        {
          "output_type": "stream",
          "text": [
            "texto\n",
            "TEXTO\n"
          ],
          "name": "stdout"
        }
      ]
    },
    {
      "cell_type": "code",
      "metadata": {
        "colab": {
          "base_uri": "https://localhost:8080/"
        },
        "id": "39rTT9jsHU3O",
        "outputId": "ee1d6748-8802-4ff5-ed05-d72747e772a5"
      },
      "source": [
        "texto3 = '             RAIMUNDO            '.strip()\n",
        "print(texto3)"
      ],
      "execution_count": 5,
      "outputs": [
        {
          "output_type": "stream",
          "text": [
            "RAIMUNDO\n"
          ],
          "name": "stdout"
        }
      ]
    },
    {
      "cell_type": "code",
      "metadata": {
        "id": "NaszKu2uIWfc",
        "colab": {
          "base_uri": "https://localhost:8080/"
        },
        "outputId": "3111ed68-5fce-4b19-d306-7a9b16a6248a"
      },
      "source": [
        "nome = 'rai jg'\n",
        "quantidade_caracteres = len(nome)\n",
        "print(quantidade_caracteres)"
      ],
      "execution_count": 6,
      "outputs": [
        {
          "output_type": "stream",
          "text": [
            "6\n"
          ],
          "name": "stdout"
        }
      ]
    },
    {
      "cell_type": "code",
      "metadata": {
        "colab": {
          "base_uri": "https://localhost:8080/"
        },
        "id": "Rzosvici-Wwg",
        "outputId": "798e5fa4-4b6f-4d80-a890-29318b2aae83"
      },
      "source": [
        "#primeira letra do nome maiscula\n",
        "nome = 'rai'.capitalize()\n",
        "print(nome)"
      ],
      "execution_count": 7,
      "outputs": [
        {
          "output_type": "stream",
          "text": [
            "Rai\n"
          ],
          "name": "stdout"
        }
      ]
    },
    {
      "cell_type": "code",
      "metadata": {
        "colab": {
          "base_uri": "https://localhost:8080/"
        },
        "id": "GkXytXJR-1O3",
        "outputId": "5d6389a5-e5f0-4efd-daea-50b813f71521"
      },
      "source": [
        "#usando input  , capitalize serve para deixar primeira letra do nome maiscula, strip para tirar espaços\n",
        "nome = input('nome:\\n').strip().capitalize()\n",
        "sobrenome = input('sobrenome:\\n').strip().capitalize()\n",
        "print(f'{nome} {sobrenome}')"
      ],
      "execution_count": 8,
      "outputs": [
        {
          "output_type": "stream",
          "text": [
            "nome:\n",
            "lol\n",
            "sobrenome:\n",
            "kkk\n",
            "Lol Kkk\n"
          ],
          "name": "stdout"
        }
      ]
    },
    {
      "cell_type": "code",
      "metadata": {
        "colab": {
          "base_uri": "https://localhost:8080/"
        },
        "id": "---LP1jR_LDX",
        "outputId": "b28d7f02-6078-4eed-d185-90a59ba67656"
      },
      "source": [
        "#SOMAR ,subtrair e etc\n",
        "numeroa = int(input('digite um numero'))\n",
        "numerob = int(input('digite outro numero'))\n",
        "resultado = numeroa+ numerob\n",
        "print(f' resultado de {numeroa} + {numerob} é {resultado}')"
      ],
      "execution_count": 9,
      "outputs": [
        {
          "output_type": "stream",
          "text": [
            "digite um numero22\n",
            "digite outro numero22\n",
            " resultado de 22 + 22 é 44\n"
          ],
          "name": "stdout"
        }
      ]
    },
    {
      "cell_type": "code",
      "metadata": {
        "colab": {
          "base_uri": "https://localhost:8080/"
        },
        "id": "JrliqVzIDb6_",
        "outputId": "ea6a22e4-71c6-4e3c-9c00-38d0a1b11e04"
      },
      "source": [
        "#ou\n",
        "numero1 = int(input('digite um numero :\\n'))\n",
        "numero2 = int(input('digite outro numero :\\n'))\n",
        "print(numero1 + numero2)"
      ],
      "execution_count": 10,
      "outputs": [
        {
          "output_type": "stream",
          "text": [
            "digite um numero :\n",
            "44\n",
            "digite outro numero :\n",
            "23\n",
            "67\n"
          ],
          "name": "stdout"
        }
      ]
    },
    {
      "cell_type": "code",
      "metadata": {
        "colab": {
          "base_uri": "https://localhost:8080/"
        },
        "id": "lhPE_gwCEjXf",
        "outputId": "413d35c8-77fe-4e4b-f356-65d1c1443ac9"
      },
      "source": [
        "#hora e data\n",
        "import datetime\n",
        "\n",
        "print(datetime.date.today())"
      ],
      "execution_count": 11,
      "outputs": [
        {
          "output_type": "stream",
          "text": [
            "2020-12-13\n"
          ],
          "name": "stdout"
        }
      ]
    },
    {
      "cell_type": "code",
      "metadata": {
        "id": "sV3H1ujVGfTF",
        "colab": {
          "base_uri": "https://localhost:8080/"
        },
        "outputId": "fb6a34af-dde5-4d71-babe-0c684544c30e"
      },
      "source": [
        "print(datetime.datetime.now())"
      ],
      "execution_count": 12,
      "outputs": [
        {
          "output_type": "stream",
          "text": [
            "2020-12-13 14:34:39.620665\n"
          ],
          "name": "stdout"
        }
      ]
    },
    {
      "cell_type": "code",
      "metadata": {
        "colab": {
          "base_uri": "https://localhost:8080/"
        },
        "id": "SkmrPE9xpPv8",
        "outputId": "d4b2b284-7cc3-43a5-e728-3516c0c9f3b8"
      },
      "source": [
        "horario = datetime.time(5,31,59)\n",
        "\n",
        "print(horario.hour)\n",
        "       \n",
        "print(horario)"
      ],
      "execution_count": 13,
      "outputs": [
        {
          "output_type": "stream",
          "text": [
            "5\n",
            "05:31:59\n"
          ],
          "name": "stdout"
        }
      ]
    },
    {
      "cell_type": "code",
      "metadata": {
        "id": "nKbG81gbqTP7",
        "colab": {
          "base_uri": "https://localhost:8080/"
        },
        "outputId": "788f99e2-6696-47b4-a265-b69710bf6eba"
      },
      "source": [
        "resposta = str(input('Escreva direita ou d para direita e esquerda ou e para esquerda'))\r\n",
        "def salao():\r\n",
        "  print('Você acabou de entrar em um salão que tem 2 portas a da direita e esquerda')\r\n",
        "  print('Você irá escolher direita ou esquerda? digite direita ou d para porta direita e esquerda ou e para porta esquerda')\r\n",
        "  if resposta == 'esquerda' or 'e' :\r\n",
        "    print('você escolheu a porta da esquerda, infelizmente você não achou nada de mais nela, tente novamente!')\r\n",
        "  elif resposta == 'direita' or 'd':\r\n",
        "    print('você escolheu a porta da direita, parabéns!! seu prêmio o aguarda!')\r\n",
        "  else :\r\n",
        "    print('você não escolheu nenhuma das opções válidas, tente novamente!')\r\n",
        "\r\n",
        "salao()"
      ],
      "execution_count": 14,
      "outputs": [
        {
          "output_type": "stream",
          "text": [
            "Escreva direita ou d para direita e esquerda ou e para esquerdad\n",
            "Você acabou de entrar em um salão que tem 2 portas a da direita e esquerda\n",
            "Você irá escolher direita ou esquerda? digite direita ou d para porta direita e esquerda ou e para porta esquerda\n",
            "você escolheu a porta da esquerda, infelizmente você não achou nada de mais nela, tente novamente!\n"
          ],
          "name": "stdout"
        }
      ]
    },
    {
      "cell_type": "code",
      "metadata": {
        "id": "x9slU2CFDkVn",
        "colab": {
          "base_uri": "https://localhost:8080/"
        },
        "outputId": "956647e4-2a0e-4b33-fd1c-f03da1c4d41f"
      },
      "source": [
        "#usando \"in\" você dará a resposta ao usuário caso ele escreva a palavra desejada, mesmo junto com 1 frase\r\n",
        "\r\n",
        "def jogo():\r\n",
        "  escolha_usuario = input('você pode escolher 2 classes, futurista emedieval, digite sua escolha aqui : \\n').lower()\r\n",
        "  if escolha_usuario  in 'medieval' :\r\n",
        "    print('você escolheu medieval, então recerá uma espada')\r\n",
        "  elif escolha_usuario in 'futurista':\r\n",
        "    print('você escolheu a classe futurista, receberá um sabre de luz')\r\n",
        "  else :\r\n",
        "    print('você digitou a palavra errada, tente novamente!')\r\n",
        "    jogo()\r\n",
        "\r\n",
        "jogo()"
      ],
      "execution_count": 15,
      "outputs": [
        {
          "output_type": "stream",
          "text": [
            "você pode escolher 2 classes, futurista emedieval, digite sua escolha aqui : \n",
            "medieval\n",
            "você escolheu medieval, então recerá uma espada\n"
          ],
          "name": "stdout"
        }
      ]
    },
    {
      "cell_type": "code",
      "metadata": {
        "colab": {
          "base_uri": "https://localhost:8080/"
        },
        "id": "NscCahg0Ghb1",
        "outputId": "e425f91b-b353-4f87-f7d8-8105d3737c2e"
      },
      "source": [
        "#usando def\r\n",
        "def nomedapessoa():\r\n",
        "  nome = input('digite seu primeiro nome\\n : ').capitalize()\r\n",
        "  print(f'seu nome é {nome}')\r\n",
        "\r\n",
        "nomedapessoa()\r\n"
      ],
      "execution_count": 16,
      "outputs": [
        {
          "output_type": "stream",
          "text": [
            "digite seu primeiro nome\n",
            " : rai\n",
            "seu nome é Rai\n"
          ],
          "name": "stdout"
        }
      ]
    },
    {
      "cell_type": "code",
      "metadata": {
        "colab": {
          "base_uri": "https://localhost:8080/"
        },
        "id": "86fKYFJhJpxK",
        "outputId": "eb674271-8ceb-47fc-bffe-ce008409af5e"
      },
      "source": [
        "#paramentros estão dentro do parenteses quando eu Declaro a função -  parametros são o  a, b \r\n",
        "def somar(a, b):\r\n",
        "  resultado = a + b\r\n",
        "  print(f'o valor da soma de {a} + {b} é igual a {resultado}')\r\n",
        "\r\n",
        "#arguments estão dentro do parenteses quando eu chamo a função  - argumentos são os  112, 230 e etc\r\n",
        "somar(112, 230)\r\n",
        "somar(194, 999)\r\n",
        "somar(11, 11)"
      ],
      "execution_count": 17,
      "outputs": [
        {
          "output_type": "stream",
          "text": [
            "o valor da soma de 112 + 230 é igual a 342\n",
            "o valor da soma de 194 + 999 é igual a 1193\n",
            "o valor da soma de 11 + 11 é igual a 22\n"
          ],
          "name": "stdout"
        }
      ]
    },
    {
      "cell_type": "code",
      "metadata": {
        "id": "MwnRJEbkMcxT",
        "colab": {
          "base_uri": "https://localhost:8080/"
        },
        "outputId": "a950ceaf-5e67-40ff-b471-b760cea1d7ab"
      },
      "source": [
        "\r\n",
        "\r\n",
        "def sub(a,b):\r\n",
        "  resultado = a - b \r\n",
        "  print(resultado)\r\n",
        "\r\n",
        "#se eu quiser usar outro numero para subtrair\r\n",
        "sub(20, 1)"
      ],
      "execution_count": 18,
      "outputs": [
        {
          "output_type": "stream",
          "text": [
            "19\n"
          ],
          "name": "stdout"
        }
      ]
    },
    {
      "cell_type": "code",
      "metadata": {
        "colab": {
          "base_uri": "https://localhost:8080/"
        },
        "id": "mwbXNIRWxA2J",
        "outputId": "66720a56-91f3-4594-ef13-0d8b2b9a53f8"
      },
      "source": [
        "#return pega o que a função faz e retorna tudo que há fora dela\r\n",
        "def sub (a, b):\r\n",
        "  resultado = a - b\r\n",
        "  return resultado\r\n",
        "\r\n",
        "print(sub(100, 90))\r\n",
        "\r\n",
        "print(sub(80, sub(90,60)))"
      ],
      "execution_count": 19,
      "outputs": [
        {
          "output_type": "stream",
          "text": [
            "10\n",
            "50\n"
          ],
          "name": "stdout"
        }
      ]
    },
    {
      "cell_type": "code",
      "metadata": {
        "colab": {
          "base_uri": "https://localhost:8080/"
        },
        "id": "zvNdhuNEjrIV",
        "outputId": "5904aad3-5ebd-412d-84b6-dffca658829a"
      },
      "source": [
        "#usando *args\r\n",
        "\r\n",
        "def exibirnumeros(*numeros):\r\n",
        "  print(numeros)\r\n",
        "  print(type(numeros))\r\n",
        "\r\n",
        "exibirnumeros(9, 11, 18, 7 , 4, 2, 1)"
      ],
      "execution_count": 20,
      "outputs": [
        {
          "output_type": "stream",
          "text": [
            "(9, 11, 18, 7, 4, 2, 1)\n",
            "<class 'tuple'>\n"
          ],
          "name": "stdout"
        }
      ]
    },
    {
      "cell_type": "code",
      "metadata": {
        "colab": {
          "base_uri": "https://localhost:8080/"
        },
        "id": "Npp4cWKiqKIh",
        "outputId": "cff32dae-ebb9-470f-c642-e17ccd39b6e0"
      },
      "source": [
        "#retorna o maior valor\r\n",
        "def maiorvalor(*numeros):\r\n",
        "  print(numeros)\r\n",
        "  return max(numeros)\r\n",
        "\r\n",
        "maiorvalor(100, 19, 95, 34, 129, 111, 84, 90, 39)\r\n"
      ],
      "execution_count": 21,
      "outputs": [
        {
          "output_type": "stream",
          "text": [
            "(100, 19, 95, 34, 129, 111, 84, 90, 39)\n"
          ],
          "name": "stdout"
        },
        {
          "output_type": "execute_result",
          "data": {
            "text/plain": [
              "129"
            ]
          },
          "metadata": {
            "tags": []
          },
          "execution_count": 21
        }
      ]
    },
    {
      "cell_type": "code",
      "metadata": {
        "colab": {
          "base_uri": "https://localhost:8080/"
        },
        "id": "4SnIWROC-Uon",
        "outputId": "d76a254e-87b3-4d47-dd03-a5b76771603d"
      },
      "source": [
        "#outro jeito de fazer igual\r\n",
        "# o * de numeros significa que TODA informação recebida, era ser transformada em tupla, ele forma multiplas tuplas\r\n",
        "#remover esse * faz com que você receba apenas 1 tupla como argumento, e passe a imformações em variaveis (maiornumero) e não diversos argumentos que são tuplas\r\n",
        "\r\n",
        "def maiorvalor(numeros):\r\n",
        "  print(numeros)\r\n",
        "  return max(numeros)\r\n",
        "\r\n",
        "checarvalor = (100, 19, 95, 34, 129, 111, 84, 90, 39)\r\n",
        "maiornumero = maiorvalor(checarvalor)   #qualquer informação dentro do \"maiorvalor\" irá ser transformada em tupla\r\n",
        "\r\n",
        "print(f'o maior valor de {checarvalor} é {maiornumero}')"
      ],
      "execution_count": 22,
      "outputs": [
        {
          "output_type": "stream",
          "text": [
            "(100, 19, 95, 34, 129, 111, 84, 90, 39)\n",
            "o maior valor de (100, 19, 95, 34, 129, 111, 84, 90, 39) é 129\n"
          ],
          "name": "stdout"
        }
      ]
    },
    {
      "cell_type": "code",
      "metadata": {
        "colab": {
          "base_uri": "https://localhost:8080/"
        },
        "id": "raqefu6RNsUw",
        "outputId": "d1f9d090-1ef2-4276-89fe-e53265a6aaa3"
      },
      "source": [
        "#max so recebe 1 tupla e não varias, então tem que tomar cuidado com isso.\r\n",
        "def maiorvalor(*numeros):\r\n",
        "  print(numeros)\r\n",
        "  return max(numeros)\r\n",
        "\r\n",
        "checarvalor = (100, 19, 95, 34, 129, 111, 84, 90, 39)\r\n",
        "maiornumero = maiorvalor(100, 19, 95, 34, 129, 111, 84, 90, 39)   #qualquer informação dentro do \"maiorvalor\" irá ser transformada em tupla\r\n",
        "\r\n",
        "print(f'o maior valor de {checarvalor} é {maiornumero}')"
      ],
      "execution_count": 23,
      "outputs": [
        {
          "output_type": "stream",
          "text": [
            "(100, 19, 95, 34, 129, 111, 84, 90, 39)\n",
            "o maior valor de (100, 19, 95, 34, 129, 111, 84, 90, 39) é 129\n"
          ],
          "name": "stdout"
        }
      ]
    },
    {
      "cell_type": "code",
      "metadata": {
        "colab": {
          "base_uri": "https://localhost:8080/"
        },
        "id": "Nz_3laljRq4n",
        "outputId": "f243762f-ddcb-4c35-d3bc-2e1886745b1f"
      },
      "source": [
        "def menorvalor(*numeros):\r\n",
        "  print(numeros)\r\n",
        "  return min(numeros)\r\n",
        "\r\n",
        "checarvalor = (100, 19, 95, 34, 129, 111, 84, 90, 39)\r\n",
        "menornumero = menorvalor(100, 19, 95, 34, 129, 111, 84, 90, 39)\r\n",
        "\r\n",
        "print(f'o menor valor de {checarvalor} é {menornumero}')"
      ],
      "execution_count": 24,
      "outputs": [
        {
          "output_type": "stream",
          "text": [
            "(100, 19, 95, 34, 129, 111, 84, 90, 39)\n",
            "o menor valor de (100, 19, 95, 34, 129, 111, 84, 90, 39) é 19\n"
          ],
          "name": "stdout"
        }
      ]
    },
    {
      "cell_type": "code",
      "metadata": {
        "colab": {
          "base_uri": "https://localhost:8080/"
        },
        "id": "4kywqgDqTbsL",
        "outputId": "af3b771e-f10a-46ad-aee6-04e914129b02"
      },
      "source": [
        "# ou\r\n",
        "def menorvalor(numeros):\r\n",
        "  print(numeros)\r\n",
        "  return min(numeros)\r\n",
        "\r\n",
        "checarvalor = (100, 19, 95, 34, 129, 111, 84, 90, 39)\r\n",
        "menornumero = menorvalor(checarvalor)\r\n",
        "\r\n",
        "print(f'o menor valor de {checarvalor} é {menornumero}')"
      ],
      "execution_count": 25,
      "outputs": [
        {
          "output_type": "stream",
          "text": [
            "(100, 19, 95, 34, 129, 111, 84, 90, 39)\n",
            "o menor valor de (100, 19, 95, 34, 129, 111, 84, 90, 39) é 19\n"
          ],
          "name": "stdout"
        }
      ]
    },
    {
      "cell_type": "code",
      "metadata": {
        "colab": {
          "base_uri": "https://localhost:8080/"
        },
        "id": "isD5DW-5TxSM",
        "outputId": "bbca24ef-f79c-4e8b-bec2-38ed51feb705"
      },
      "source": [
        "#ou\r\n",
        "def menorvalor(*numeros):\r\n",
        "  print(numeros)\r\n",
        "  return min(numeros)\r\n",
        "\r\n",
        "\r\n",
        "menornumero = menorvalor(100, 19, 95, 34, 129, 111, 84, 90, 39)\r\n",
        "print(f'o menor valor de {(100, 19, 95, 34, 129, 111, 84, 90, 39)} é {menornumero}')"
      ],
      "execution_count": 26,
      "outputs": [
        {
          "output_type": "stream",
          "text": [
            "(100, 19, 95, 34, 129, 111, 84, 90, 39)\n",
            "o menor valor de (100, 19, 95, 34, 129, 111, 84, 90, 39) é 19\n"
          ],
          "name": "stdout"
        }
      ]
    },
    {
      "cell_type": "code",
      "metadata": {
        "colab": {
          "base_uri": "https://localhost:8080/"
        },
        "id": "yUm5ReTvV6KO",
        "outputId": "29ccf29d-02e6-4c4e-ed46-7aaac70e6093"
      },
      "source": [
        "#abs = absolute, just positive\r\n",
        "print(abs(-6.6))"
      ],
      "execution_count": 27,
      "outputs": [
        {
          "output_type": "stream",
          "text": [
            "6.6\n"
          ],
          "name": "stdout"
        }
      ]
    },
    {
      "cell_type": "code",
      "metadata": {
        "colab": {
          "base_uri": "https://localhost:8080/"
        },
        "id": "OwJIWFcngWJ_",
        "outputId": "167d96d8-997e-4b9a-d662-e02256d0aa41"
      },
      "source": [
        "#round = 6.7 to 7 for example\r\n",
        "print(round(6.6))\r\n",
        "print(round(9.7))\r\n",
        "\r\n",
        "\r\n",
        "#sempre irá arredondar para o numero par mais próximo para evitar perdas, uma lei da programação em alguns programas, por isso os 2 numeros seguintes darão 8\r\n",
        "print(round(7.5))\r\n",
        "print(round(8.5))"
      ],
      "execution_count": 28,
      "outputs": [
        {
          "output_type": "stream",
          "text": [
            "7\n",
            "10\n",
            "8\n",
            "8\n"
          ],
          "name": "stdout"
        }
      ]
    },
    {
      "cell_type": "markdown",
      "metadata": {
        "id": "wcQ5Lz0atL0p"
      },
      "source": [
        "Exercicio : Criar uma função valor_hotel que receba parâmetro chamado diaria e retorne o custo do hotel, i diária vale 140 reais\r\n"
      ]
    },
    {
      "cell_type": "code",
      "metadata": {
        "colab": {
          "base_uri": "https://localhost:8080/"
        },
        "id": "heTm2mDagkNt",
        "outputId": "c2e9fe78-330c-4abd-9e90-80f1132a489e"
      },
      "source": [
        "def valor_hotel(diaria):\r\n",
        "  custo_estadia = diaria * 140\r\n",
        "  return custo_estadia\r\n",
        "\r\n",
        "print(f'O valor total de diarias no hotel foi de R${valor_hotel(7)} Reais')"
      ],
      "execution_count": 29,
      "outputs": [
        {
          "output_type": "stream",
          "text": [
            "O valor total de diarias no hotel foi de R$980 Reais\n"
          ],
          "name": "stdout"
        }
      ]
    },
    {
      "cell_type": "code",
      "metadata": {
        "colab": {
          "base_uri": "https://localhost:8080/"
        },
        "id": "KQUCeB7Z3yQE",
        "outputId": "717e2688-2e62-4dee-8112-1d94620fd5e0"
      },
      "source": [
        "#alguem de carro\r\n",
        "\r\n",
        "def aluguel_carro(dias):\r\n",
        "\r\n",
        "  valor_total = dias *40  #preço aluguel diario\r\n",
        "  if dias >= 7 :\r\n",
        "    valor_total -= 50\r\n",
        "  elif dias >=2 :\r\n",
        "    valor_hotel -= 20\r\n",
        "  return valor_total\r\n",
        "\r\n",
        "dias = int(input('Digite o numero de dias'))\r\n",
        "custo = aluguel_carro(dias)\r\n",
        "\r\n",
        "print(f'o custo total do aluguel do carro para { dias} dias será no valor de R$ {custo}')"
      ],
      "execution_count": 30,
      "outputs": [
        {
          "output_type": "stream",
          "text": [
            "Digite o numero de dias33\n",
            "o custo total do aluguel do carro para 33 dias será no valor de R$ 1270\n"
          ],
          "name": "stdout"
        }
      ]
    },
    {
      "cell_type": "markdown",
      "metadata": {
        "id": "bfufEPRtVS4C"
      },
      "source": [
        "Listas\r\n"
      ]
    },
    {
      "cell_type": "code",
      "metadata": {
        "colab": {
          "base_uri": "https://localhost:8080/"
        },
        "id": "N2IWXwllS-CF",
        "outputId": "110de1e8-fde2-46be-cb41-496083c43846"
      },
      "source": [
        "#colchetes iniciam uma lista\r\n",
        "\r\n",
        "lista = [4, 2, 5, 6, 9, 1]\r\n",
        "\r\n",
        "print(type(lista))\r\n",
        "\r\n",
        "print(lista)"
      ],
      "execution_count": 31,
      "outputs": [
        {
          "output_type": "stream",
          "text": [
            "<class 'list'>\n",
            "[4, 2, 5, 6, 9, 1]\n"
          ],
          "name": "stdout"
        }
      ]
    },
    {
      "cell_type": "code",
      "metadata": {
        "colab": {
          "base_uri": "https://localhost:8080/"
        },
        "id": "cac93RiwVnxF",
        "outputId": "ce6fcb12-8bd0-4e6d-c6a0-a7d19a503222"
      },
      "source": [
        "primeiro_numero = lista[0]\r\n",
        "primeiro_numero"
      ],
      "execution_count": 32,
      "outputs": [
        {
          "output_type": "execute_result",
          "data": {
            "text/plain": [
              "4"
            ]
          },
          "metadata": {
            "tags": []
          },
          "execution_count": 32
        }
      ]
    },
    {
      "cell_type": "code",
      "metadata": {
        "colab": {
          "base_uri": "https://localhost:8080/"
        },
        "id": "I9jU4DWHWuhR",
        "outputId": "dffdf10f-3b02-4eba-8e38-44bc1c8dcc13"
      },
      "source": [
        "ultimo_numero = lista[5]\r\n",
        "ultimo_numero"
      ],
      "execution_count": 33,
      "outputs": [
        {
          "output_type": "execute_result",
          "data": {
            "text/plain": [
              "1"
            ]
          },
          "metadata": {
            "tags": []
          },
          "execution_count": 33
        }
      ]
    },
    {
      "cell_type": "code",
      "metadata": {
        "id": "2lYjbw1EW3th",
        "colab": {
          "base_uri": "https://localhost:8080/"
        },
        "outputId": "cba4187e-c45d-460c-a94a-48abe437280a"
      },
      "source": [
        "  lista = [3, 8 ,11, 9, 4, 2, 0]\r\n",
        "\r\n",
        "  print(lista[0])\r\n",
        "  print(lista)\r\n",
        "\r\n",
        "  #quando eu mudo o valor do primeiro item da lista de 3 para 111\r\n",
        "\r\n",
        "  lista[0] = 111\r\n",
        "\r\n",
        "  print(lista[0])\r\n",
        "  print(lista)"
      ],
      "execution_count": 34,
      "outputs": [
        {
          "output_type": "stream",
          "text": [
            "3\n",
            "[3, 8, 11, 9, 4, 2, 0]\n",
            "111\n",
            "[111, 8, 11, 9, 4, 2, 0]\n"
          ],
          "name": "stdout"
        }
      ]
    },
    {
      "cell_type": "code",
      "metadata": {
        "colab": {
          "base_uri": "https://localhost:8080/"
        },
        "id": "6cDD0669QiCJ",
        "outputId": "4fb71df4-fb8b-4a28-d63b-9f286fd27f3a"
      },
      "source": [
        "lista = [111, 8, 11, 9, 4, 2, 0]\r\n",
        "\r\n",
        "lista.append(999)\r\n",
        "\r\n",
        "print(lista)\r\n"
      ],
      "execution_count": 35,
      "outputs": [
        {
          "output_type": "stream",
          "text": [
            "[111, 8, 11, 9, 4, 2, 0, 999]\n"
          ],
          "name": "stdout"
        }
      ]
    },
    {
      "cell_type": "code",
      "metadata": {
        "colab": {
          "base_uri": "https://localhost:8080/"
        },
        "id": "p5BwPtybRTw_",
        "outputId": "92b8e185-fa39-4c11-b292-27f7dafa1da1"
      },
      "source": [
        "#pego os items do indice 0 até o 3 , para fazer isso uso : para pegar o que eu quiser , mas para antes do indice anterior (9) então pega 3 primeiros itens\r\n",
        "lista[0:3]"
      ],
      "execution_count": 36,
      "outputs": [
        {
          "output_type": "execute_result",
          "data": {
            "text/plain": [
              "[111, 8, 11]"
            ]
          },
          "metadata": {
            "tags": []
          },
          "execution_count": 36
        }
      ]
    },
    {
      "cell_type": "code",
      "metadata": {
        "colab": {
          "base_uri": "https://localhost:8080/"
        },
        "id": "wQkxYyyXRpj9",
        "outputId": "86dbb6f0-5d39-4db5-a804-826ca961e6c1"
      },
      "source": [
        "#pego do indice 5 em diante\r\n",
        "lista[5:]"
      ],
      "execution_count": 37,
      "outputs": [
        {
          "output_type": "execute_result",
          "data": {
            "text/plain": [
              "[2, 0, 999]"
            ]
          },
          "metadata": {
            "tags": []
          },
          "execution_count": 37
        }
      ]
    },
    {
      "cell_type": "code",
      "metadata": {
        "colab": {
          "base_uri": "https://localhost:8080/"
        },
        "id": "nEApiiaLSE0p",
        "outputId": "012cb598-938c-46b1-a294-eb24cace2d23"
      },
      "source": [
        "#pegando itens antes do indice 5\r\n",
        "lista[:5]"
      ],
      "execution_count": 38,
      "outputs": [
        {
          "output_type": "execute_result",
          "data": {
            "text/plain": [
              "[111, 8, 11, 9, 4]"
            ]
          },
          "metadata": {
            "tags": []
          },
          "execution_count": 38
        }
      ]
    },
    {
      "cell_type": "code",
      "metadata": {
        "colab": {
          "base_uri": "https://localhost:8080/"
        },
        "id": "LFJ-i4tnSYV0",
        "outputId": "b3b4d274-bd93-489e-8233-16c23be6388c"
      },
      "source": [
        "#ultimo item da lista\r\n",
        "lista[-1]"
      ],
      "execution_count": 39,
      "outputs": [
        {
          "output_type": "execute_result",
          "data": {
            "text/plain": [
              "999"
            ]
          },
          "metadata": {
            "tags": []
          },
          "execution_count": 39
        }
      ]
    },
    {
      "cell_type": "code",
      "metadata": {
        "colab": {
          "base_uri": "https://localhost:8080/"
        },
        "id": "Vnfxvl-BSbHY",
        "outputId": "0e0443a8-c187-4162-afbd-914864e1b62f"
      },
      "source": [
        "#pego items antes do ultimo item em diante, é muito util caso exista muitos itens na lista\r\n",
        "lista[:-1]"
      ],
      "execution_count": 40,
      "outputs": [
        {
          "output_type": "execute_result",
          "data": {
            "text/plain": [
              "[111, 8, 11, 9, 4, 2, 0]"
            ]
          },
          "metadata": {
            "tags": []
          },
          "execution_count": 40
        }
      ]
    },
    {
      "cell_type": "code",
      "metadata": {
        "colab": {
          "base_uri": "https://localhost:8080/"
        },
        "id": "fHNrAUkGShU9",
        "outputId": "d6e0184c-3429-48bb-f397-4bd33f766604"
      },
      "source": [
        "#criando lista\r\n",
        "\r\n",
        "animais = 'catdoglionbirdfrog'\r\n",
        "\r\n",
        "cat = animais[0:3]\r\n",
        "print(cat)\r\n",
        "\r\n",
        "dog = animais[3:6]\r\n",
        "print(dog)\r\n",
        "\r\n",
        "lion = animais[6:10]\r\n",
        "print(lion)\r\n",
        "\r\n",
        "bird = animais[10:14]\r\n",
        "print(bird)\r\n",
        "\r\n",
        "frog = animais[14:]\r\n",
        "print(frog)\r\n"
      ],
      "execution_count": 41,
      "outputs": [
        {
          "output_type": "stream",
          "text": [
            "cat\n",
            "dog\n",
            "lion\n",
            "bird\n",
            "frog\n"
          ],
          "name": "stdout"
        }
      ]
    },
    {
      "cell_type": "code",
      "metadata": {
        "colab": {
          "base_uri": "https://localhost:8080/"
        },
        "id": "TmQwrmToT7We",
        "outputId": "8efa9f8a-d4b0-4664-db91-f194cee4d466"
      },
      "source": [
        "animais = ['cat', 'dog', 'lion', 'bird', 'frog']\r\n",
        "\r\n",
        "def listadeanimais(animal):\r\n",
        "  if animal in animais:  #procurar se um animal está ou não na lista de animais, usando in \r\n",
        "    info_animal = animais.index(animal)   #achar a posição do animal usando o index\r\n",
        "    print(f'O animal {animal} está na posição {info_animal} da lista')\r\n",
        "  else :\r\n",
        "    print('Animal não encontrado na lista')\r\n",
        "\r\n",
        "listadeanimais(input('Digite o nome do animal desejado \\n').lower())\r\n"
      ],
      "execution_count": 42,
      "outputs": [
        {
          "output_type": "stream",
          "text": [
            "Digite o nome do animal desejado \n",
            "cat\n",
            "O animal cat está na posição 0 da lista\n"
          ],
          "name": "stdout"
        }
      ]
    },
    {
      "cell_type": "code",
      "metadata": {
        "colab": {
          "base_uri": "https://localhost:8080/"
        },
        "id": "K9-cdfrvXqzC",
        "outputId": "30c2635f-8a81-4492-db92-9599a1c68d7b"
      },
      "source": [
        "#inserir 1 numero em 1 lugar na lista\r\n",
        "\r\n",
        "print(animais) #antes de inserir o indice\r\n",
        "\r\n",
        "animais.insert(1, 'parrot')\r\n",
        "print(animais) #print ja com o \"parrot\" inserido na lista"
      ],
      "execution_count": 43,
      "outputs": [
        {
          "output_type": "stream",
          "text": [
            "['cat', 'dog', 'lion', 'bird', 'frog']\n",
            "['cat', 'parrot', 'dog', 'lion', 'bird', 'frog']\n"
          ],
          "name": "stdout"
        }
      ]
    },
    {
      "cell_type": "code",
      "metadata": {
        "colab": {
          "base_uri": "https://localhost:8080/"
        },
        "id": "4KxxhD9Yekdh",
        "outputId": "d8578d4e-711d-4a99-b8af-3988e4625d7c"
      },
      "source": [
        "animais = ['cat', 'dog', 'lion', 'bird', 'frog']\r\n",
        "\r\n",
        "for animal in animais:\r\n",
        "  if animal == 'cat' or animal == 'dog':\r\n",
        "    print(animal)"
      ],
      "execution_count": 44,
      "outputs": [
        {
          "output_type": "stream",
          "text": [
            "cat\n",
            "dog\n"
          ],
          "name": "stdout"
        }
      ]
    },
    {
      "cell_type": "code",
      "metadata": {
        "colab": {
          "base_uri": "https://localhost:8080/"
        },
        "id": "mDfdixoUq2xn",
        "outputId": "ae599f8a-229a-4cf3-b38d-b9cde37172b9"
      },
      "source": [
        "animais = ['cat', 'dog', 'lion', 'bird', 'frog']\r\n",
        "\r\n",
        "for animal in animais:\r\n",
        "  if animal != 'cat':\r\n",
        "    print(animal)\r\n",
        "  else :\r\n",
        "    print('Nya')"
      ],
      "execution_count": 45,
      "outputs": [
        {
          "output_type": "stream",
          "text": [
            "Nya\n",
            "dog\n",
            "lion\n",
            "bird\n",
            "frog\n"
          ],
          "name": "stdout"
        }
      ]
    },
    {
      "cell_type": "code",
      "metadata": {
        "colab": {
          "base_uri": "https://localhost:8080/"
        },
        "id": "HFlGSgu5r1We",
        "outputId": "01ade775-4c75-493d-8dce-ff40cd7b9761"
      },
      "source": [
        "#range\r\n",
        "print(range(10))\r\n",
        "\r\n",
        "for indice in range(10):  #10 objects 0 until 9\r\n",
        "  print(indice)"
      ],
      "execution_count": 46,
      "outputs": [
        {
          "output_type": "stream",
          "text": [
            "range(0, 10)\n",
            "0\n",
            "1\n",
            "2\n",
            "3\n",
            "4\n",
            "5\n",
            "6\n",
            "7\n",
            "8\n",
            "9\n"
          ],
          "name": "stdout"
        }
      ]
    },
    {
      "cell_type": "code",
      "metadata": {
        "colab": {
          "base_uri": "https://localhost:8080/"
        },
        "id": "dWOvtKnftXcZ",
        "outputId": "2eea38b8-bd94-4da7-c6a7-8a25e7a474c5"
      },
      "source": [
        "animais = ['cat', 'dog', 'lion', 'bird', 'frog']\r\n",
        "\r\n",
        "for indice in range(len(animal)):\r\n",
        "  animal = animais[indice]\r\n",
        "  print(animal)\r\n",
        "  print(indice)"
      ],
      "execution_count": 47,
      "outputs": [
        {
          "output_type": "stream",
          "text": [
            "cat\n",
            "0\n",
            "dog\n",
            "1\n",
            "lion\n",
            "2\n",
            "bird\n",
            "3\n"
          ],
          "name": "stdout"
        }
      ]
    },
    {
      "cell_type": "code",
      "metadata": {
        "colab": {
          "base_uri": "https://localhost:8080/"
        },
        "id": "JwB20F72v7yX",
        "outputId": "dcd96c65-20e0-436b-87fc-bb3e10df3fe2"
      },
      "source": [
        "#tuplas\r\n",
        "\r\n",
        "tupla = (5, 9, 1, 23, 8, 4, 7)\r\n",
        "print(tupla, type(tupla))\r\n",
        "\r\n",
        "primeiro_elemento = tupla[0]\r\n",
        "print(primeiro_elemento)"
      ],
      "execution_count": 48,
      "outputs": [
        {
          "output_type": "stream",
          "text": [
            "(5, 9, 1, 23, 8, 4, 7) <class 'tuple'>\n",
            "5\n"
          ],
          "name": "stdout"
        }
      ]
    },
    {
      "cell_type": "code",
      "metadata": {
        "id": "MmNmYOHt1bFC"
      },
      "source": [
        "#tupla não podem ter seus itens alterados\r\n",
        "\r\n",
        "#tupla[0] = 99  #não funciona"
      ],
      "execution_count": 49,
      "outputs": []
    },
    {
      "cell_type": "code",
      "metadata": {
        "colab": {
          "base_uri": "https://localhost:8080/"
        },
        "id": "DcjF4MIi2EAk",
        "outputId": "52989291-fe31-4b15-ad33-b0328e434914"
      },
      "source": [
        "tupla_animais = ('gato', 'cachorro', 'leão', 'macaco', 'sapo', 'jirafa', 'preguiça')\r\n",
        "\r\n",
        "primeiro_animal, segundo_animal, terceiro_animal, quarto_animal, quinto_animal, sexto_animal, setimo_animal = tupla_animais\r\n",
        "\r\n",
        "print(primeiro_animal)\r\n",
        "print(quinto_animal)"
      ],
      "execution_count": 50,
      "outputs": [
        {
          "output_type": "stream",
          "text": [
            "gato\n",
            "sapo\n"
          ],
          "name": "stdout"
        }
      ]
    },
    {
      "cell_type": "code",
      "metadata": {
        "id": "cAQBlVgp4ulI",
        "colab": {
          "base_uri": "https://localhost:8080/"
        },
        "outputId": "46cd474b-f475-4728-875d-b6c847d2943f"
      },
      "source": [
        "for indice, animal in enumerate(animais):\r\n",
        "  print(indice, animal)"
      ],
      "execution_count": 51,
      "outputs": [
        {
          "output_type": "stream",
          "text": [
            "0 cat\n",
            "1 dog\n",
            "2 lion\n",
            "3 bird\n",
            "4 frog\n"
          ],
          "name": "stdout"
        }
      ]
    },
    {
      "cell_type": "code",
      "metadata": {
        "colab": {
          "base_uri": "https://localhost:8080/"
        },
        "id": "dTz0oZe_iMxz",
        "outputId": "b283ad01-6bb3-4176-8402-ea64633b9138"
      },
      "source": [
        "#while break\r\n",
        "indice = 0\r\n",
        "\r\n",
        "while True :\r\n",
        "  indice += 1\r\n",
        "\r\n",
        "  if indice == 100:\r\n",
        "    break\r\n",
        "\r\n",
        "  print('fim do while', indice)\r\n",
        "print('fim do codigo')"
      ],
      "execution_count": 57,
      "outputs": [
        {
          "output_type": "stream",
          "text": [
            "fim do while 1\n",
            "fim do while 2\n",
            "fim do while 3\n",
            "fim do while 4\n",
            "fim do while 5\n",
            "fim do while 6\n",
            "fim do while 7\n",
            "fim do while 8\n",
            "fim do while 9\n",
            "fim do while 10\n",
            "fim do while 11\n",
            "fim do while 12\n",
            "fim do while 13\n",
            "fim do while 14\n",
            "fim do while 15\n",
            "fim do while 16\n",
            "fim do while 17\n",
            "fim do while 18\n",
            "fim do while 19\n",
            "fim do while 20\n",
            "fim do while 21\n",
            "fim do while 22\n",
            "fim do while 23\n",
            "fim do while 24\n",
            "fim do while 25\n",
            "fim do while 26\n",
            "fim do while 27\n",
            "fim do while 28\n",
            "fim do while 29\n",
            "fim do while 30\n",
            "fim do while 31\n",
            "fim do while 32\n",
            "fim do while 33\n",
            "fim do while 34\n",
            "fim do while 35\n",
            "fim do while 36\n",
            "fim do while 37\n",
            "fim do while 38\n",
            "fim do while 39\n",
            "fim do while 40\n",
            "fim do while 41\n",
            "fim do while 42\n",
            "fim do while 43\n",
            "fim do while 44\n",
            "fim do while 45\n",
            "fim do while 46\n",
            "fim do while 47\n",
            "fim do while 48\n",
            "fim do while 49\n",
            "fim do while 50\n",
            "fim do while 51\n",
            "fim do while 52\n",
            "fim do while 53\n",
            "fim do while 54\n",
            "fim do while 55\n",
            "fim do while 56\n",
            "fim do while 57\n",
            "fim do while 58\n",
            "fim do while 59\n",
            "fim do while 60\n",
            "fim do while 61\n",
            "fim do while 62\n",
            "fim do while 63\n",
            "fim do while 64\n",
            "fim do while 65\n",
            "fim do while 66\n",
            "fim do while 67\n",
            "fim do while 68\n",
            "fim do while 69\n",
            "fim do while 70\n",
            "fim do while 71\n",
            "fim do while 72\n",
            "fim do while 73\n",
            "fim do while 74\n",
            "fim do while 75\n",
            "fim do while 76\n",
            "fim do while 77\n",
            "fim do while 78\n",
            "fim do while 79\n",
            "fim do while 80\n",
            "fim do while 81\n",
            "fim do while 82\n",
            "fim do while 83\n",
            "fim do while 84\n",
            "fim do while 85\n",
            "fim do while 86\n",
            "fim do while 87\n",
            "fim do while 88\n",
            "fim do while 89\n",
            "fim do while 90\n",
            "fim do while 91\n",
            "fim do while 92\n",
            "fim do while 93\n",
            "fim do while 94\n",
            "fim do while 95\n",
            "fim do while 96\n",
            "fim do while 97\n",
            "fim do while 98\n",
            "fim do while 99\n",
            "fim do codigo\n"
          ],
          "name": "stdout"
        }
      ]
    },
    {
      "cell_type": "code",
      "metadata": {
        "colab": {
          "base_uri": "https://localhost:8080/"
        },
        "id": "ajwHiTezio1X",
        "outputId": "eb8c46de-73e0-4471-c82a-82557f286f2c"
      },
      "source": [
        "while True :\r\n",
        "  escolha_usuario = int(input('escolha um numero positivo inteiro'))\r\n",
        "\r\n",
        "  if escolha_usuario >= 1:\r\n",
        "    print(f'Você escolheu o numero {escolha_usuario}')\r\n",
        "  else:\r\n",
        "    break"
      ],
      "execution_count": 59,
      "outputs": [
        {
          "output_type": "stream",
          "text": [
            "escolha um numero positivo inteiro400\n",
            "Você escolheu o numero 400\n",
            "escolha um numero positivo inteiro300\n",
            "Você escolheu o numero 300\n",
            "escolha um numero positivo inteiro1\n",
            "Você escolheu o numero 1\n",
            "escolha um numero positivo inteiro10\n",
            "Você escolheu o numero 10\n",
            "escolha um numero positivo inteiro8\n",
            "Você escolheu o numero 8\n",
            "escolha um numero positivo inteiro5\n",
            "Você escolheu o numero 5\n",
            "escolha um numero positivo inteiro-10\n"
          ],
          "name": "stdout"
        }
      ]
    },
    {
      "cell_type": "code",
      "metadata": {
        "colab": {
          "base_uri": "https://localhost:8080/"
        },
        "id": "XmatYFMZkSCf",
        "outputId": "d8b52320-dd01-41bd-f480-b2fb166d0194"
      },
      "source": [
        "numeros = [8, 7, 11, 23, 13, 14, 2, 9, 4, 22, 29, 17, 16, 10, 6]\r\n",
        "\r\n",
        "for numero in numeros:\r\n",
        "  if numero %2 == 0:\r\n",
        "    print(f'o numero {numero} é par')\r\n",
        "  else:\r\n",
        "    print(f'o numero {numero} é impar')"
      ],
      "execution_count": 63,
      "outputs": [
        {
          "output_type": "stream",
          "text": [
            "o numero 8 é par\n",
            "o numero 7 é impar\n",
            "o numero 11 é impar\n",
            "o numero 23 é impar\n",
            "o numero 13 é impar\n",
            "o numero 14 é par\n",
            "o numero 2 é par\n",
            "o numero 9 é impar\n",
            "o numero 4 é par\n",
            "o numero 22 é par\n",
            "o numero 29 é impar\n",
            "o numero 17 é impar\n",
            "o numero 16 é par\n",
            "o numero 10 é par\n",
            "o numero 6 é par\n"
          ],
          "name": "stdout"
        }
      ]
    },
    {
      "cell_type": "code",
      "metadata": {
        "id": "3IhHQiBYsDIy"
      },
      "source": [
        ""
      ],
      "execution_count": null,
      "outputs": []
    }
  ]
}